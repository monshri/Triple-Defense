{
  "nbformat": 4,
  "nbformat_minor": 0,
  "metadata": {
    "accelerator": "GPU",
    "colab": {
      "name": "idl_project_creating_models.ipynb",
      "provenance": [],
      "collapsed_sections": [],
      "machine_shape": "hm",
      "include_colab_link": true
    },
    "kernelspec": {
      "display_name": "Environment (conda_pytorch_latest_p37)",
      "language": "python",
      "name": "conda_pytorch_latest_p37"
    },
    "language_info": {
      "codemirror_mode": {
        "name": "ipython",
        "version": 3
      },
      "file_extension": ".py",
      "mimetype": "text/x-python",
      "name": "python",
      "nbconvert_exporter": "python",
      "pygments_lexer": "ipython3",
      "version": "3.7.6"
    },
    "widgets": {
      "application/vnd.jupyter.widget-state+json": {
        "f8b6c3f94a69439da42b05b3f5fc3596": {
          "model_module": "@jupyter-widgets/controls",
          "model_name": "HBoxModel",
          "state": {
            "_view_name": "HBoxView",
            "_dom_classes": [],
            "_model_name": "HBoxModel",
            "_view_module": "@jupyter-widgets/controls",
            "_model_module_version": "1.5.0",
            "_view_count": null,
            "_view_module_version": "1.5.0",
            "box_style": "",
            "layout": "IPY_MODEL_9765daa3ccf54eb0a7946694200748d9",
            "_model_module": "@jupyter-widgets/controls",
            "children": [
              "IPY_MODEL_a7af76d730e641b7a8c5088fbc7a224b",
              "IPY_MODEL_9117fe862bce486f9888a0039f3f5aba"
            ]
          }
        },
        "9765daa3ccf54eb0a7946694200748d9": {
          "model_module": "@jupyter-widgets/base",
          "model_name": "LayoutModel",
          "state": {
            "_view_name": "LayoutView",
            "grid_template_rows": null,
            "right": null,
            "justify_content": null,
            "_view_module": "@jupyter-widgets/base",
            "overflow": null,
            "_model_module_version": "1.2.0",
            "_view_count": null,
            "flex_flow": null,
            "width": null,
            "min_width": null,
            "border": null,
            "align_items": null,
            "bottom": null,
            "_model_module": "@jupyter-widgets/base",
            "top": null,
            "grid_column": null,
            "overflow_y": null,
            "overflow_x": null,
            "grid_auto_flow": null,
            "grid_area": null,
            "grid_template_columns": null,
            "flex": null,
            "_model_name": "LayoutModel",
            "justify_items": null,
            "grid_row": null,
            "max_height": null,
            "align_content": null,
            "visibility": null,
            "align_self": null,
            "height": null,
            "min_height": null,
            "padding": null,
            "grid_auto_rows": null,
            "grid_gap": null,
            "max_width": null,
            "order": null,
            "_view_module_version": "1.2.0",
            "grid_template_areas": null,
            "object_position": null,
            "object_fit": null,
            "grid_auto_columns": null,
            "margin": null,
            "display": null,
            "left": null
          }
        },
        "a7af76d730e641b7a8c5088fbc7a224b": {
          "model_module": "@jupyter-widgets/controls",
          "model_name": "FloatProgressModel",
          "state": {
            "_view_name": "ProgressView",
            "style": "IPY_MODEL_b5a3c442f0874a888134602466e6e89f",
            "_dom_classes": [],
            "description": "",
            "_model_name": "FloatProgressModel",
            "bar_style": "info",
            "max": 1,
            "_view_module": "@jupyter-widgets/controls",
            "_model_module_version": "1.5.0",
            "value": 1,
            "_view_count": null,
            "_view_module_version": "1.5.0",
            "orientation": "horizontal",
            "min": 0,
            "description_tooltip": null,
            "_model_module": "@jupyter-widgets/controls",
            "layout": "IPY_MODEL_0d63363392e24b77a0ead62e47bfc67f"
          }
        },
        "9117fe862bce486f9888a0039f3f5aba": {
          "model_module": "@jupyter-widgets/controls",
          "model_name": "HTMLModel",
          "state": {
            "_view_name": "HTMLView",
            "style": "IPY_MODEL_f13c683e7ffa4811b9753bdd2d51556d",
            "_dom_classes": [],
            "description": "",
            "_model_name": "HTMLModel",
            "placeholder": "​",
            "_view_module": "@jupyter-widgets/controls",
            "_model_module_version": "1.5.0",
            "value": " 170500096/? [00:20&lt;00:00, 32052521.24it/s]",
            "_view_count": null,
            "_view_module_version": "1.5.0",
            "description_tooltip": null,
            "_model_module": "@jupyter-widgets/controls",
            "layout": "IPY_MODEL_9bd3e234890c400e94b406b6ca93347e"
          }
        },
        "b5a3c442f0874a888134602466e6e89f": {
          "model_module": "@jupyter-widgets/controls",
          "model_name": "ProgressStyleModel",
          "state": {
            "_view_name": "StyleView",
            "_model_name": "ProgressStyleModel",
            "description_width": "initial",
            "_view_module": "@jupyter-widgets/base",
            "_model_module_version": "1.5.0",
            "_view_count": null,
            "_view_module_version": "1.2.0",
            "bar_color": null,
            "_model_module": "@jupyter-widgets/controls"
          }
        },
        "0d63363392e24b77a0ead62e47bfc67f": {
          "model_module": "@jupyter-widgets/base",
          "model_name": "LayoutModel",
          "state": {
            "_view_name": "LayoutView",
            "grid_template_rows": null,
            "right": null,
            "justify_content": null,
            "_view_module": "@jupyter-widgets/base",
            "overflow": null,
            "_model_module_version": "1.2.0",
            "_view_count": null,
            "flex_flow": null,
            "width": null,
            "min_width": null,
            "border": null,
            "align_items": null,
            "bottom": null,
            "_model_module": "@jupyter-widgets/base",
            "top": null,
            "grid_column": null,
            "overflow_y": null,
            "overflow_x": null,
            "grid_auto_flow": null,
            "grid_area": null,
            "grid_template_columns": null,
            "flex": null,
            "_model_name": "LayoutModel",
            "justify_items": null,
            "grid_row": null,
            "max_height": null,
            "align_content": null,
            "visibility": null,
            "align_self": null,
            "height": null,
            "min_height": null,
            "padding": null,
            "grid_auto_rows": null,
            "grid_gap": null,
            "max_width": null,
            "order": null,
            "_view_module_version": "1.2.0",
            "grid_template_areas": null,
            "object_position": null,
            "object_fit": null,
            "grid_auto_columns": null,
            "margin": null,
            "display": null,
            "left": null
          }
        },
        "f13c683e7ffa4811b9753bdd2d51556d": {
          "model_module": "@jupyter-widgets/controls",
          "model_name": "DescriptionStyleModel",
          "state": {
            "_view_name": "StyleView",
            "_model_name": "DescriptionStyleModel",
            "description_width": "",
            "_view_module": "@jupyter-widgets/base",
            "_model_module_version": "1.5.0",
            "_view_count": null,
            "_view_module_version": "1.2.0",
            "_model_module": "@jupyter-widgets/controls"
          }
        },
        "9bd3e234890c400e94b406b6ca93347e": {
          "model_module": "@jupyter-widgets/base",
          "model_name": "LayoutModel",
          "state": {
            "_view_name": "LayoutView",
            "grid_template_rows": null,
            "right": null,
            "justify_content": null,
            "_view_module": "@jupyter-widgets/base",
            "overflow": null,
            "_model_module_version": "1.2.0",
            "_view_count": null,
            "flex_flow": null,
            "width": null,
            "min_width": null,
            "border": null,
            "align_items": null,
            "bottom": null,
            "_model_module": "@jupyter-widgets/base",
            "top": null,
            "grid_column": null,
            "overflow_y": null,
            "overflow_x": null,
            "grid_auto_flow": null,
            "grid_area": null,
            "grid_template_columns": null,
            "flex": null,
            "_model_name": "LayoutModel",
            "justify_items": null,
            "grid_row": null,
            "max_height": null,
            "align_content": null,
            "visibility": null,
            "align_self": null,
            "height": null,
            "min_height": null,
            "padding": null,
            "grid_auto_rows": null,
            "grid_gap": null,
            "max_width": null,
            "order": null,
            "_view_module_version": "1.2.0",
            "grid_template_areas": null,
            "object_position": null,
            "object_fit": null,
            "grid_auto_columns": null,
            "margin": null,
            "display": null,
            "left": null
          }
        }
      }
    }
  },
  "cells": [
    {
      "cell_type": "markdown",
      "metadata": {
        "id": "view-in-github",
        "colab_type": "text"
      },
      "source": [
        "<a href=\"https://colab.research.google.com/github/KaichengDING/Triple-Defense/blob/main/idl_project_creating_models.ipynb\" target=\"_parent\"><img src=\"https://colab.research.google.com/assets/colab-badge.svg\" alt=\"Open In Colab\"/></a>"
      ]
    },
    {
      "cell_type": "code",
      "metadata": {
        "id": "AcnIH59Pvv4n",
        "colab": {
          "base_uri": "https://localhost:8080/"
        },
        "outputId": "f907b7fa-9b71-4f25-8dbb-1af166fbd689"
      },
      "source": [
        "from google.colab import drive\n",
        "drive.mount('/content/gdrive')"
      ],
      "execution_count": 1,
      "outputs": [
        {
          "output_type": "stream",
          "text": [
            "Mounted at /content/gdrive\n"
          ],
          "name": "stdout"
        }
      ]
    },
    {
      "cell_type": "code",
      "metadata": {
        "id": "6SqUPdAKkDIn",
        "colab": {
          "base_uri": "https://localhost:8080/"
        },
        "outputId": "d569f1d9-bf64-4ff9-a216-e18f91bfe456"
      },
      "source": [
        "import torch\n",
        "import torchvision\n",
        "import torchvision.transforms as transforms\n",
        "import torchvision.models as models\n",
        "\n",
        "import numpy as np\n",
        "\n",
        "import PIL\n",
        "\n",
        "import sys\n",
        "import torch.nn as nn\n",
        "import torch.nn.functional as F\n",
        "import torch.optim as optim\n",
        "import torch.optim.lr_scheduler as lr_scheduler\n",
        "\n",
        "from torch.utils import data\n",
        "\n",
        "import matplotlib.pyplot as plt\n",
        "import time\n",
        "import logging\n",
        "import datetime\n",
        "\n",
        "cuda = torch.cuda.is_available()\n",
        "cuda"
      ],
      "execution_count": 2,
      "outputs": [
        {
          "output_type": "execute_result",
          "data": {
            "text/plain": [
              "True"
            ]
          },
          "metadata": {
            "tags": []
          },
          "execution_count": 2
        }
      ]
    },
    {
      "cell_type": "code",
      "metadata": {
        "id": "PfyaOczXoRqQ"
      },
      "source": [
        "class AddGaussianNoise(object):\n",
        "    def __init__(self, mean=0.0, std=1.0, dropout=0.5):\n",
        "        self.std = std\n",
        "        self.mean = mean\n",
        "        self.dropout = dropout\n",
        "        \n",
        "    def __call__(self, tensor):\n",
        "      mask = torch.rand(tensor.size()) >= self.dropout\n",
        "      noise = torch.randn(tensor.size()) * self.std + self.mean\n",
        "      noise = noise * mask\n",
        "      res = tensor + noise\n",
        "      return torch.clamp(input=res, min=0.0, max=1.0)\n",
        "    \n",
        "    def __repr__(self):\n",
        "        return self.__class__.__name__ + '(mean={0}, std={1})'.format(self.mean, self.std)"
      ],
      "execution_count": 3,
      "outputs": []
    },
    {
      "cell_type": "code",
      "metadata": {
        "id": "NkIqO0-ntgcy"
      },
      "source": [
        "def train_epoch(model, train_loader, criterion, optimizer):\n",
        "    model.train()\n",
        "\n",
        "    running_loss = 0.0\n",
        "    total_predictions = 0.0\n",
        "    correct_predictions = 0.0\n",
        "    \n",
        "    for batch_idx, (data, target) in enumerate(train_loader):   \n",
        "        optimizer.zero_grad()   # .backward() accumulates gradients\n",
        "        data = data.to(device)\n",
        "        target = target.to(device) # all data & model on same device\n",
        "        \n",
        "        with torch.cuda.amp.autocast():\n",
        "          outputs = model(data)\n",
        "          loss = criterion(outputs, target)\n",
        "          running_loss += loss.item()\n",
        "\n",
        "          _, predicted = torch.max(outputs.data, 1)\n",
        "          total_predictions += target.size(0)\n",
        "          correct_predictions += (predicted == target).sum().item()\n",
        "        \n",
        "        scaler.scale(loss).backward()\n",
        "        scaler.step(optimizer)\n",
        "        scaler.update()\n",
        "\n",
        "\n",
        "        del data\n",
        "        del target\n",
        "    \n",
        "    \n",
        "    running_loss /= len(train_loader)\n",
        "    acc = (correct_predictions/total_predictions)*100.0\n",
        "    logging.info('Training Loss: {}'.format(running_loss))\n",
        "    logging.info('Training Accuracy: {}%'.format(acc))\n",
        "    return running_loss\n",
        "\n",
        "\n",
        "def test_model(model, test_loader, criterion):\n",
        "    with torch.no_grad():\n",
        "        model.eval()\n",
        "\n",
        "        running_loss = 0.0\n",
        "        total_predictions = 0.0\n",
        "        correct_predictions = 0.0\n",
        "\n",
        "        for batch_idx, (data, target) in enumerate(test_loader): \n",
        "            data = data.to(device)\n",
        "            target = target.to(device)\n",
        "\n",
        "            with torch.cuda.amp.autocast():\n",
        "              outputs = model(data)\n",
        "\n",
        "              _, predicted = torch.max(outputs.data, 1)\n",
        "              total_predictions += target.size(0)\n",
        "              correct_predictions += (predicted == target).sum().item()\n",
        "\n",
        "              loss = criterion(outputs, target).detach()\n",
        "              running_loss += loss.item()\n",
        "\n",
        "            del data\n",
        "            del target\n",
        "\n",
        "        running_loss /= len(test_loader)\n",
        "        acc = (correct_predictions/total_predictions)*100.0\n",
        "        logging.info('Testing Loss: {}'.format(running_loss))\n",
        "        logging.info('Testing Accuracy: {}%'.format(acc))\n",
        "        return running_loss, acc\n",
        "\n",
        "def init_weights(m):\n",
        "    if type(m) == nn.Conv2d or type(m) == nn.Linear:\n",
        "        torch.nn.init.xavier_normal_(m.weight.data)"
      ],
      "execution_count": 4,
      "outputs": []
    },
    {
      "cell_type": "code",
      "metadata": {
        "id": "dXX4443Y16Ul"
      },
      "source": [
        "# configure logging\n",
        "logger = logging.getLogger(\"\")\n",
        "\n",
        "# reset handler\n",
        "for handler in logging.root.handlers[:]:\n",
        "  logging.root.removeHandler(handler)\n",
        "\n",
        "# set handler\n",
        "stream_hdlr = logging.StreamHandler()\n",
        "file_hdlr = logging.FileHandler('/content/gdrive/My Drive/IDL_Project/logs/log_{}.log.log'.format(datetime.datetime.now()))\n",
        "\n",
        "formatter = logging.Formatter('%(asctime)s %(levelname)s %(message)s')\n",
        "stream_hdlr.setFormatter(formatter)\n",
        "file_hdlr.setFormatter(formatter)\n",
        "\n",
        "logger.addHandler(stream_hdlr)\n",
        "logger.addHandler(file_hdlr)\n",
        "\n",
        "logger.setLevel(logging.INFO)"
      ],
      "execution_count": 5,
      "outputs": []
    },
    {
      "cell_type": "code",
      "metadata": {
        "id": "zq_mk_bEBtlt"
      },
      "source": [
        "class ShuffleNet(nn.Module):\n",
        "    def __init__(self, nb_classes =10):\n",
        "        super(ShuffleNet, self).__init__()\n",
        "        self.shuffle = models.shufflenet_v2_x2_0()\n",
        "        self.linear = nn.Linear(1000, nb_classes)\n",
        "        \n",
        "    def forward(self, x):\n",
        "        x = self.shuffle(x)\n",
        "        x = self.linear(x)\n",
        "        return x"
      ],
      "execution_count": 6,
      "outputs": []
    },
    {
      "cell_type": "code",
      "metadata": {
        "id": "fFZ8ZtrqxZ7j",
        "colab": {
          "base_uri": "https://localhost:8080/"
        },
        "outputId": "f7666b64-ca81-4ae0-853d-18b3170d3e00"
      },
      "source": [
        "train_batchsize = 128\n",
        "test_batchsize = 100\n",
        "num_workers = 8\n",
        "num_classes = 10\n",
        "\n",
        "n_epochs = 60\n",
        "img_size = 224\n",
        "lr = 1e-4\n",
        "min_lr = 1e-8\n",
        "weight_decay = 5e-4\n",
        "num_models = 30\n",
        "\n",
        "noise_std = 0.2\n",
        "noise_dropout = 0.2\n",
        "\n",
        "device = torch.device(\"cuda\" if cuda else \"cpu\")\n",
        "\n",
        "hyper_params = {'lr': lr, \n",
        "                'min_lr': min_lr, \n",
        "                'weight_decay': weight_decay, \n",
        "                'num_models': num_models, \n",
        "                'num_epochs': n_epochs, \n",
        "                'noise_std': noise_std, \n",
        "                'noise_dropout':noise_dropout}\n",
        "logging.info(hyper_params)\n"
      ],
      "execution_count": 7,
      "outputs": [
        {
          "output_type": "stream",
          "text": [
            "2020-12-05 15:44:51,109 INFO {'lr': 0.0001, 'min_lr': 1e-08, 'weight_decay': 0.0005, 'num_models': 30, 'num_epochs': 60, 'noise_std': 0.2, 'noise_dropout': 0.2}\n"
          ],
          "name": "stderr"
        }
      ]
    },
    {
      "cell_type": "code",
      "metadata": {
        "id": "vUfvg4LvwMA0",
        "colab": {
          "base_uri": "https://localhost:8080/",
          "height": 1000,
          "referenced_widgets": [
            "f8b6c3f94a69439da42b05b3f5fc3596",
            "9765daa3ccf54eb0a7946694200748d9",
            "a7af76d730e641b7a8c5088fbc7a224b",
            "9117fe862bce486f9888a0039f3f5aba",
            "b5a3c442f0874a888134602466e6e89f",
            "0d63363392e24b77a0ead62e47bfc67f",
            "f13c683e7ffa4811b9753bdd2d51556d",
            "9bd3e234890c400e94b406b6ca93347e"
          ]
        },
        "outputId": "e7022a7d-2f59-4c0e-bcf0-dc2c45313aa7"
      },
      "source": [
        "seeds = np.arange(0, num_models)\n",
        "\n",
        "for seed in seeds:\n",
        "  logging.info('Seed: {}'.format(seed))\n",
        "  torch.manual_seed(seed)\n",
        "  \n",
        "\n",
        "  train_transform = transforms.Compose([transforms.Resize(size=img_size),\n",
        "                      transforms.ColorJitter(hue=.05, saturation=.05),\n",
        "                      transforms.RandomHorizontalFlip(p=0.5),\n",
        "                      transforms.RandomRotation(20, resample=PIL.Image.BILINEAR),\n",
        "                      transforms.ToTensor(),\n",
        "                      transforms.Normalize((0, 0, 0), (1, 1, 1)),\n",
        "                      AddGaussianNoise(0., noise_std, noise_dropout)])\n",
        "\n",
        "  test_transform = transforms.Compose([transforms.Resize(size=img_size),\n",
        "                     transforms.ToTensor(),\n",
        "                     transforms.Normalize((0, 0, 0), (1, 1, 1)),\n",
        "                     AddGaussianNoise(0., noise_std, noise_dropout)])\n",
        "\n",
        "  \n",
        "  trainset = torchvision.datasets.CIFAR10(root='./data', train=True, download=True, transform=train_transform)\n",
        "  testset = torchvision.datasets.CIFAR10(root='./data', train=False, download=True, transform=test_transform)\n",
        "  trainloader = torch.utils.data.DataLoader(trainset, batch_size=train_batchsize, shuffle=True, num_workers=num_workers)\n",
        "  testloader = torch.utils.data.DataLoader(testset, batch_size=test_batchsize, shuffle=False, num_workers=num_workers)\n",
        "\n",
        "  model = ShuffleNet(num_classes)\n",
        "  model.apply(init_weights)\n",
        "  criterion = nn.CrossEntropyLoss()\n",
        "  optimizer = optim.Adam(model.parameters(), lr=lr, weight_decay=weight_decay)\n",
        "  scheduler = lr_scheduler.ReduceLROnPlateau(optimizer, mode='min', factor=0.1, patience=1, cooldown=5, min_lr=min_lr, verbose=True)\n",
        "  scaler = torch.cuda.amp.GradScaler()\n",
        "  model.to(device)\n",
        "\n",
        "  # Train_loss = []\n",
        "  # Test_loss = []\n",
        "  # Test_acc = []\n",
        "\n",
        "  for i in range(n_epochs):\n",
        "    tic = time.time()\n",
        "    logging.info('Epoch: {}'.format(i))\n",
        "    train_loss = train_epoch(model, trainloader, criterion, optimizer)\n",
        "    test_loss, test_acc = test_model(model, testloader, criterion)\n",
        "    scheduler.step(test_loss)\n",
        "    # Train_loss.append(train_loss)\n",
        "    # Test_loss.append(test_loss)\n",
        "    # Test_acc.append(test_acc)\n",
        "    toc = time.time()\n",
        "    logging.info('Time: {}s'.format(toc - tic))\n",
        "    logging.info('='*20)\n",
        "    \n",
        "  torch.save({'model_state_dict': model.state_dict(),\n",
        "        'optimizer_state_dict': optimizer.state_dict(),\n",
        "        'scheduler_state_dict': scheduler.state_dict()}, \n",
        "        \"/content/gdrive/My Drive/IDL_Project/modelS/Model_shufflenet_{}\".format(seed))\n",
        "  \n",
        "  torch.cuda.empty_cache()\n",
        "  del model\n",
        "  del criterion\n",
        "  del optimizer\n",
        "  del scheduler\n",
        "  del scaler\n",
        "  del trainloader\n",
        "  del testloader\n",
        "  del train_transform\n",
        "  del test_transform\n",
        "\n",
        "  \n"
      ],
      "execution_count": null,
      "outputs": [
        {
          "output_type": "stream",
          "text": [
            "2020-12-05 15:44:52,507 INFO Seed: 0\n"
          ],
          "name": "stderr"
        },
        {
          "output_type": "stream",
          "text": [
            "Downloading https://www.cs.toronto.edu/~kriz/cifar-10-python.tar.gz to ./data/cifar-10-python.tar.gz\n"
          ],
          "name": "stdout"
        },
        {
          "output_type": "display_data",
          "data": {
            "application/vnd.jupyter.widget-view+json": {
              "model_id": "f8b6c3f94a69439da42b05b3f5fc3596",
              "version_minor": 0,
              "version_major": 2
            },
            "text/plain": [
              "HBox(children=(FloatProgress(value=1.0, bar_style='info', max=1.0), HTML(value='')))"
            ]
          },
          "metadata": {
            "tags": []
          }
        },
        {
          "output_type": "stream",
          "text": [
            "Extracting ./data/cifar-10-python.tar.gz to ./data\n",
            "Files already downloaded and verified\n"
          ],
          "name": "stdout"
        },
        {
          "output_type": "stream",
          "text": [
            "2020-12-05 15:45:10,818 INFO Epoch: 0\n",
            "2020-12-05 15:49:38,469 INFO Training Loss: 1.9833572298059683\n",
            "2020-12-05 15:49:38,470 INFO Training Accuracy: 26.294%\n",
            "2020-12-05 15:50:04,174 INFO Testing Loss: 1.8353790879249572\n",
            "2020-12-05 15:50:04,176 INFO Testing Accuracy: 33.85%\n",
            "2020-12-05 15:50:04,177 INFO Time: 293.35942220687866s\n",
            "2020-12-05 15:50:04,179 INFO ====================\n",
            "2020-12-05 15:50:04,180 INFO Epoch: 1\n",
            "2020-12-05 15:54:31,315 INFO Training Loss: 1.7373812790112118\n",
            "2020-12-05 15:54:31,317 INFO Training Accuracy: 35.996%\n",
            "2020-12-05 15:54:56,395 INFO Testing Loss: 1.6193517065048217\n",
            "2020-12-05 15:54:56,397 INFO Testing Accuracy: 41.05%\n",
            "2020-12-05 15:54:56,399 INFO Time: 292.21853613853455s\n",
            "2020-12-05 15:54:56,400 INFO ====================\n",
            "2020-12-05 15:54:56,402 INFO Epoch: 2\n",
            "2020-12-05 15:59:21,207 INFO Training Loss: 1.6032718740155936\n",
            "2020-12-05 15:59:21,208 INFO Training Accuracy: 41.244%\n",
            "2020-12-05 15:59:46,480 INFO Testing Loss: 1.49951895236969\n",
            "2020-12-05 15:59:46,482 INFO Testing Accuracy: 44.84%\n",
            "2020-12-05 15:59:46,483 INFO Time: 290.08140897750854s\n",
            "2020-12-05 15:59:46,484 INFO ====================\n",
            "2020-12-05 15:59:46,485 INFO Epoch: 3\n",
            "2020-12-05 16:04:09,768 INFO Training Loss: 1.5155517240924299\n",
            "2020-12-05 16:04:09,770 INFO Training Accuracy: 44.940000000000005%\n",
            "2020-12-05 16:04:34,679 INFO Testing Loss: 1.4020634925365447\n",
            "2020-12-05 16:04:34,680 INFO Testing Accuracy: 48.699999999999996%\n",
            "2020-12-05 16:04:34,681 INFO Time: 288.1964786052704s\n",
            "2020-12-05 16:04:34,684 INFO ====================\n",
            "2020-12-05 16:04:34,685 INFO Epoch: 4\n",
            "2020-12-05 16:08:58,311 INFO Training Loss: 1.4256487508564044\n",
            "2020-12-05 16:08:58,313 INFO Training Accuracy: 48.27%\n",
            "2020-12-05 16:09:23,691 INFO Testing Loss: 1.3301620435714723\n",
            "2020-12-05 16:09:23,693 INFO Testing Accuracy: 51.71%\n",
            "2020-12-05 16:09:23,694 INFO Time: 289.00846314430237s\n",
            "2020-12-05 16:09:23,695 INFO ====================\n",
            "2020-12-05 16:09:23,696 INFO Epoch: 5\n",
            "2020-12-05 16:13:47,088 INFO Training Loss: 1.3484666643240262\n",
            "2020-12-05 16:13:47,090 INFO Training Accuracy: 51.254%\n",
            "2020-12-05 16:14:12,565 INFO Testing Loss: 1.2926043856143952\n",
            "2020-12-05 16:14:12,567 INFO Testing Accuracy: 52.669999999999995%\n",
            "2020-12-05 16:14:12,569 INFO Time: 288.87275791168213s\n",
            "2020-12-05 16:14:12,570 INFO ====================\n",
            "2020-12-05 16:14:12,571 INFO Epoch: 6\n",
            "2020-12-05 16:18:37,547 INFO Training Loss: 1.2775020247225262\n",
            "2020-12-05 16:18:37,549 INFO Training Accuracy: 54.104%\n",
            "2020-12-05 16:19:02,686 INFO Testing Loss: 1.1995878118276595\n",
            "2020-12-05 16:19:02,688 INFO Testing Accuracy: 57.07%\n",
            "2020-12-05 16:19:02,689 INFO Time: 290.11845993995667s\n",
            "2020-12-05 16:19:02,690 INFO ====================\n",
            "2020-12-05 16:19:02,691 INFO Epoch: 7\n",
            "2020-12-05 16:23:25,915 INFO Training Loss: 1.2025969853181668\n",
            "2020-12-05 16:23:25,917 INFO Training Accuracy: 56.964000000000006%\n",
            "2020-12-05 16:23:50,728 INFO Testing Loss: 1.183412778377533\n",
            "2020-12-05 16:23:50,729 INFO Testing Accuracy: 58.29%\n",
            "2020-12-05 16:23:50,733 INFO Time: 288.04186272621155s\n",
            "2020-12-05 16:23:50,735 INFO ====================\n",
            "2020-12-05 16:23:50,737 INFO Epoch: 8\n",
            "2020-12-05 16:28:14,574 INFO Training Loss: 1.135340200208337\n",
            "2020-12-05 16:28:14,575 INFO Training Accuracy: 59.28600000000001%\n",
            "2020-12-05 16:28:40,324 INFO Testing Loss: 1.0845985263586044\n",
            "2020-12-05 16:28:40,325 INFO Testing Accuracy: 61.370000000000005%\n",
            "2020-12-05 16:28:40,326 INFO Time: 289.58912563323975s\n",
            "2020-12-05 16:28:40,328 INFO ====================\n",
            "2020-12-05 16:28:40,330 INFO Epoch: 9\n",
            "2020-12-05 16:33:09,491 INFO Training Loss: 1.0743419117939748\n",
            "2020-12-05 16:33:09,492 INFO Training Accuracy: 61.443999999999996%\n",
            "2020-12-05 16:33:35,153 INFO Testing Loss: 1.0281042087078094\n",
            "2020-12-05 16:33:35,155 INFO Testing Accuracy: 63.5%\n",
            "2020-12-05 16:33:35,157 INFO Time: 294.82750940322876s\n",
            "2020-12-05 16:33:35,158 INFO ====================\n",
            "2020-12-05 16:33:35,160 INFO Epoch: 10\n",
            "2020-12-05 16:38:04,475 INFO Training Loss: 1.0084014894712308\n",
            "2020-12-05 16:38:04,478 INFO Training Accuracy: 64.282%\n",
            "2020-12-05 16:38:30,145 INFO Testing Loss: 0.968877735733986\n",
            "2020-12-05 16:38:30,147 INFO Testing Accuracy: 65.62%\n",
            "2020-12-05 16:38:30,148 INFO Time: 294.9873118400574s\n",
            "2020-12-05 16:38:30,149 INFO ====================\n",
            "2020-12-05 16:38:30,150 INFO Epoch: 11\n",
            "2020-12-05 16:43:00,072 INFO Training Loss: 0.9527279164480127\n",
            "2020-12-05 16:43:00,074 INFO Training Accuracy: 66.12400000000001%\n",
            "2020-12-05 16:43:25,854 INFO Testing Loss: 0.9517458909749985\n",
            "2020-12-05 16:43:25,856 INFO Testing Accuracy: 66.36%\n",
            "2020-12-05 16:43:25,858 INFO Time: 295.70778226852417s\n",
            "2020-12-05 16:43:25,859 INFO ====================\n",
            "2020-12-05 16:43:25,861 INFO Epoch: 12\n",
            "2020-12-05 16:47:54,661 INFO Training Loss: 0.893697817307299\n",
            "2020-12-05 16:47:54,663 INFO Training Accuracy: 68.274%\n",
            "2020-12-05 16:48:20,479 INFO Testing Loss: 0.8874868559837341\n",
            "2020-12-05 16:48:20,480 INFO Testing Accuracy: 68.89999999999999%\n",
            "2020-12-05 16:48:20,481 INFO Time: 294.62052035331726s\n",
            "2020-12-05 16:48:20,482 INFO ====================\n",
            "2020-12-05 16:48:20,484 INFO Epoch: 13\n",
            "2020-12-05 16:52:49,362 INFO Training Loss: 0.846742069324874\n",
            "2020-12-05 16:52:49,364 INFO Training Accuracy: 70.146%\n",
            "2020-12-05 16:53:15,048 INFO Testing Loss: 0.8538978272676467\n",
            "2020-12-05 16:53:15,050 INFO Testing Accuracy: 69.8%\n",
            "2020-12-05 16:53:15,052 INFO Time: 294.5681583881378s\n",
            "2020-12-05 16:53:15,054 INFO ====================\n",
            "2020-12-05 16:53:15,055 INFO Epoch: 14\n"
          ],
          "name": "stderr"
        }
      ]
    },
    {
      "cell_type": "code",
      "metadata": {
        "id": "cGVJ-9NHk8iz"
      },
      "source": [
        ""
      ],
      "execution_count": null,
      "outputs": []
    }
  ]
}