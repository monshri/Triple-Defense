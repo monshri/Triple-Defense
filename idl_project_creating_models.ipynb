{
  "nbformat": 4,
  "nbformat_minor": 0,
  "metadata": {
    "accelerator": "GPU",
    "colab": {
      "name": "idl_project_creating_models.ipynb",
      "provenance": [],
      "collapsed_sections": [],
      "machine_shape": "hm",
      "include_colab_link": true
    },
    "kernelspec": {
      "display_name": "Environment (conda_pytorch_latest_p37)",
      "language": "python",
      "name": "conda_pytorch_latest_p37"
    },
    "language_info": {
      "codemirror_mode": {
        "name": "ipython",
        "version": 3
      },
      "file_extension": ".py",
      "mimetype": "text/x-python",
      "name": "python",
      "nbconvert_exporter": "python",
      "pygments_lexer": "ipython3",
      "version": "3.7.6"
    },
    "widgets": {
      "application/vnd.jupyter.widget-state+json": {
        "b5b90c260be847cda13fd729e1c20361": {
          "model_module": "@jupyter-widgets/controls",
          "model_name": "HBoxModel",
          "state": {
            "_view_name": "HBoxView",
            "_dom_classes": [],
            "_model_name": "HBoxModel",
            "_view_module": "@jupyter-widgets/controls",
            "_model_module_version": "1.5.0",
            "_view_count": null,
            "_view_module_version": "1.5.0",
            "box_style": "",
            "layout": "IPY_MODEL_4e0d8a7bae344390b5bebd5e6b47a471",
            "_model_module": "@jupyter-widgets/controls",
            "children": [
              "IPY_MODEL_a429c5d441154aa9b2a568c1bab863ff",
              "IPY_MODEL_53321428b1414412ab0a0398b2384a1f"
            ]
          }
        },
        "4e0d8a7bae344390b5bebd5e6b47a471": {
          "model_module": "@jupyter-widgets/base",
          "model_name": "LayoutModel",
          "state": {
            "_view_name": "LayoutView",
            "grid_template_rows": null,
            "right": null,
            "justify_content": null,
            "_view_module": "@jupyter-widgets/base",
            "overflow": null,
            "_model_module_version": "1.2.0",
            "_view_count": null,
            "flex_flow": null,
            "width": null,
            "min_width": null,
            "border": null,
            "align_items": null,
            "bottom": null,
            "_model_module": "@jupyter-widgets/base",
            "top": null,
            "grid_column": null,
            "overflow_y": null,
            "overflow_x": null,
            "grid_auto_flow": null,
            "grid_area": null,
            "grid_template_columns": null,
            "flex": null,
            "_model_name": "LayoutModel",
            "justify_items": null,
            "grid_row": null,
            "max_height": null,
            "align_content": null,
            "visibility": null,
            "align_self": null,
            "height": null,
            "min_height": null,
            "padding": null,
            "grid_auto_rows": null,
            "grid_gap": null,
            "max_width": null,
            "order": null,
            "_view_module_version": "1.2.0",
            "grid_template_areas": null,
            "object_position": null,
            "object_fit": null,
            "grid_auto_columns": null,
            "margin": null,
            "display": null,
            "left": null
          }
        },
        "a429c5d441154aa9b2a568c1bab863ff": {
          "model_module": "@jupyter-widgets/controls",
          "model_name": "FloatProgressModel",
          "state": {
            "_view_name": "ProgressView",
            "style": "IPY_MODEL_587b7d83176743d89e20c19fc1af95ec",
            "_dom_classes": [],
            "description": "",
            "_model_name": "FloatProgressModel",
            "bar_style": "info",
            "max": 1,
            "_view_module": "@jupyter-widgets/controls",
            "_model_module_version": "1.5.0",
            "value": 1,
            "_view_count": null,
            "_view_module_version": "1.5.0",
            "orientation": "horizontal",
            "min": 0,
            "description_tooltip": null,
            "_model_module": "@jupyter-widgets/controls",
            "layout": "IPY_MODEL_f8248ef71f9e47fd973fd599b9160af6"
          }
        },
        "53321428b1414412ab0a0398b2384a1f": {
          "model_module": "@jupyter-widgets/controls",
          "model_name": "HTMLModel",
          "state": {
            "_view_name": "HTMLView",
            "style": "IPY_MODEL_87ee7898b25b41379f3dc61b7ed64763",
            "_dom_classes": [],
            "description": "",
            "_model_name": "HTMLModel",
            "placeholder": "​",
            "_view_module": "@jupyter-widgets/controls",
            "_model_module_version": "1.5.0",
            "value": " 170500096/? [00:20&lt;00:00, 32636902.66it/s]",
            "_view_count": null,
            "_view_module_version": "1.5.0",
            "description_tooltip": null,
            "_model_module": "@jupyter-widgets/controls",
            "layout": "IPY_MODEL_dc6886ca9e124c5391d90ca9722f3253"
          }
        },
        "587b7d83176743d89e20c19fc1af95ec": {
          "model_module": "@jupyter-widgets/controls",
          "model_name": "ProgressStyleModel",
          "state": {
            "_view_name": "StyleView",
            "_model_name": "ProgressStyleModel",
            "description_width": "initial",
            "_view_module": "@jupyter-widgets/base",
            "_model_module_version": "1.5.0",
            "_view_count": null,
            "_view_module_version": "1.2.0",
            "bar_color": null,
            "_model_module": "@jupyter-widgets/controls"
          }
        },
        "f8248ef71f9e47fd973fd599b9160af6": {
          "model_module": "@jupyter-widgets/base",
          "model_name": "LayoutModel",
          "state": {
            "_view_name": "LayoutView",
            "grid_template_rows": null,
            "right": null,
            "justify_content": null,
            "_view_module": "@jupyter-widgets/base",
            "overflow": null,
            "_model_module_version": "1.2.0",
            "_view_count": null,
            "flex_flow": null,
            "width": null,
            "min_width": null,
            "border": null,
            "align_items": null,
            "bottom": null,
            "_model_module": "@jupyter-widgets/base",
            "top": null,
            "grid_column": null,
            "overflow_y": null,
            "overflow_x": null,
            "grid_auto_flow": null,
            "grid_area": null,
            "grid_template_columns": null,
            "flex": null,
            "_model_name": "LayoutModel",
            "justify_items": null,
            "grid_row": null,
            "max_height": null,
            "align_content": null,
            "visibility": null,
            "align_self": null,
            "height": null,
            "min_height": null,
            "padding": null,
            "grid_auto_rows": null,
            "grid_gap": null,
            "max_width": null,
            "order": null,
            "_view_module_version": "1.2.0",
            "grid_template_areas": null,
            "object_position": null,
            "object_fit": null,
            "grid_auto_columns": null,
            "margin": null,
            "display": null,
            "left": null
          }
        },
        "87ee7898b25b41379f3dc61b7ed64763": {
          "model_module": "@jupyter-widgets/controls",
          "model_name": "DescriptionStyleModel",
          "state": {
            "_view_name": "StyleView",
            "_model_name": "DescriptionStyleModel",
            "description_width": "",
            "_view_module": "@jupyter-widgets/base",
            "_model_module_version": "1.5.0",
            "_view_count": null,
            "_view_module_version": "1.2.0",
            "_model_module": "@jupyter-widgets/controls"
          }
        },
        "dc6886ca9e124c5391d90ca9722f3253": {
          "model_module": "@jupyter-widgets/base",
          "model_name": "LayoutModel",
          "state": {
            "_view_name": "LayoutView",
            "grid_template_rows": null,
            "right": null,
            "justify_content": null,
            "_view_module": "@jupyter-widgets/base",
            "overflow": null,
            "_model_module_version": "1.2.0",
            "_view_count": null,
            "flex_flow": null,
            "width": null,
            "min_width": null,
            "border": null,
            "align_items": null,
            "bottom": null,
            "_model_module": "@jupyter-widgets/base",
            "top": null,
            "grid_column": null,
            "overflow_y": null,
            "overflow_x": null,
            "grid_auto_flow": null,
            "grid_area": null,
            "grid_template_columns": null,
            "flex": null,
            "_model_name": "LayoutModel",
            "justify_items": null,
            "grid_row": null,
            "max_height": null,
            "align_content": null,
            "visibility": null,
            "align_self": null,
            "height": null,
            "min_height": null,
            "padding": null,
            "grid_auto_rows": null,
            "grid_gap": null,
            "max_width": null,
            "order": null,
            "_view_module_version": "1.2.0",
            "grid_template_areas": null,
            "object_position": null,
            "object_fit": null,
            "grid_auto_columns": null,
            "margin": null,
            "display": null,
            "left": null
          }
        }
      }
    }
  },
  "cells": [
    {
      "cell_type": "markdown",
      "metadata": {
        "id": "view-in-github",
        "colab_type": "text"
      },
      "source": [
        "<a href=\"https://colab.research.google.com/github/KaichengDING/Triple-Defense/blob/main/idl_project_creating_models.ipynb\" target=\"_parent\"><img src=\"https://colab.research.google.com/assets/colab-badge.svg\" alt=\"Open In Colab\"/></a>"
      ]
    },
    {
      "cell_type": "code",
      "metadata": {
        "id": "AcnIH59Pvv4n",
        "colab": {
          "base_uri": "https://localhost:8080/"
        },
        "outputId": "f44e0aa9-9602-4d24-ff61-256a97455f50"
      },
      "source": [
        "from google.colab import drive\n",
        "drive.mount('/content/gdrive')"
      ],
      "execution_count": 1,
      "outputs": [
        {
          "output_type": "stream",
          "text": [
            "Mounted at /content/gdrive\n"
          ],
          "name": "stdout"
        }
      ]
    },
    {
      "cell_type": "code",
      "metadata": {
        "id": "6SqUPdAKkDIn",
        "colab": {
          "base_uri": "https://localhost:8080/"
        },
        "outputId": "657e7a4d-8127-4113-be72-923290717a4f"
      },
      "source": [
        "import torch\n",
        "import torchvision\n",
        "import torchvision.transforms as transforms\n",
        "import torchvision.models as models\n",
        "\n",
        "import numpy as np\n",
        "\n",
        "import PIL\n",
        "\n",
        "import sys\n",
        "import torch.nn as nn\n",
        "import torch.nn.functional as F\n",
        "import torch.optim as optim\n",
        "import torch.optim.lr_scheduler as lr_scheduler\n",
        "\n",
        "from torch.utils import data\n",
        "\n",
        "import matplotlib.pyplot as plt\n",
        "import time\n",
        "import logging\n",
        "import datetime\n",
        "\n",
        "cuda = torch.cuda.is_available()\n",
        "cuda"
      ],
      "execution_count": 2,
      "outputs": [
        {
          "output_type": "execute_result",
          "data": {
            "text/plain": [
              "True"
            ]
          },
          "metadata": {
            "tags": []
          },
          "execution_count": 2
        }
      ]
    },
    {
      "cell_type": "code",
      "metadata": {
        "id": "PfyaOczXoRqQ"
      },
      "source": [
        "class AddGaussianNoise(object):\n",
        "    def __init__(self, mean=0.0, std=1.0, dropout=0.5):\n",
        "        self.std = std\n",
        "        self.mean = mean\n",
        "        self.dropout = dropout\n",
        "        \n",
        "    def __call__(self, tensor):\n",
        "      mask = torch.rand(tensor.size()) >= self.dropout\n",
        "      noise = torch.randn(tensor.size()) * self.std + self.mean\n",
        "      noise = noise * mask\n",
        "      res = tensor + noise\n",
        "      return torch.clamp(input=res, min=0.0, max=1.0)\n",
        "    \n",
        "    def __repr__(self):\n",
        "        return self.__class__.__name__ + '(mean={0}, std={1})'.format(self.mean, self.std)"
      ],
      "execution_count": 8,
      "outputs": []
    },
    {
      "cell_type": "code",
      "metadata": {
        "id": "NkIqO0-ntgcy"
      },
      "source": [
        "def train_epoch(model, train_loader, criterion, optimizer):\n",
        "    model.train()\n",
        "\n",
        "    running_loss = 0.0\n",
        "    total_predictions = 0.0\n",
        "    correct_predictions = 0.0\n",
        "    \n",
        "    for batch_idx, (data, target) in enumerate(train_loader):   \n",
        "        optimizer.zero_grad()   # .backward() accumulates gradients\n",
        "        data = data.to(device)\n",
        "        target = target.to(device) # all data & model on same device\n",
        "        \n",
        "        with torch.cuda.amp.autocast():\n",
        "          outputs = model(data)\n",
        "          loss = criterion(outputs, target)\n",
        "          running_loss += loss.item()\n",
        "\n",
        "          _, predicted = torch.max(outputs.data, 1)\n",
        "          total_predictions += target.size(0)\n",
        "          correct_predictions += (predicted == target).sum().item()\n",
        "        \n",
        "        scaler.scale(loss).backward()\n",
        "        scaler.step(optimizer)\n",
        "        scaler.update()\n",
        "\n",
        "\n",
        "        del data\n",
        "        del target\n",
        "    \n",
        "    \n",
        "    running_loss /= len(train_loader)\n",
        "    acc = (correct_predictions/total_predictions)*100.0\n",
        "    logging.info('Training Loss: {}'.format(running_loss))\n",
        "    logging.info('Training Accuracy: {}%'.format(acc))\n",
        "    return running_loss\n",
        "\n",
        "\n",
        "def test_model(model, test_loader, criterion):\n",
        "    with torch.no_grad():\n",
        "        model.eval()\n",
        "\n",
        "        running_loss = 0.0\n",
        "        total_predictions = 0.0\n",
        "        correct_predictions = 0.0\n",
        "\n",
        "        for batch_idx, (data, target) in enumerate(test_loader): \n",
        "            data = data.to(device)\n",
        "            target = target.to(device)\n",
        "\n",
        "            with torch.cuda.amp.autocast():\n",
        "              outputs = model(data)\n",
        "\n",
        "              _, predicted = torch.max(outputs.data, 1)\n",
        "              total_predictions += target.size(0)\n",
        "              correct_predictions += (predicted == target).sum().item()\n",
        "\n",
        "              loss = criterion(outputs, target).detach()\n",
        "              running_loss += loss.item()\n",
        "\n",
        "            del data\n",
        "            del target\n",
        "\n",
        "        running_loss /= len(test_loader)\n",
        "        acc = (correct_predictions/total_predictions)*100.0\n",
        "        logging.info('Testing Loss: {}'.format(running_loss))\n",
        "        logging.info('Testing Accuracy: {}%'.format(acc))\n",
        "        return running_loss, acc\n",
        "\n",
        "def init_weights(m):\n",
        "    if type(m) == nn.Conv2d or type(m) == nn.Linear:\n",
        "        torch.nn.init.xavier_normal_(m.weight.data)"
      ],
      "execution_count": 9,
      "outputs": []
    },
    {
      "cell_type": "code",
      "metadata": {
        "id": "dXX4443Y16Ul"
      },
      "source": [
        "# configure logging\n",
        "logger = logging.getLogger(\"\")\n",
        "\n",
        "# reset handler\n",
        "for handler in logging.root.handlers[:]:\n",
        "  logging.root.removeHandler(handler)\n",
        "\n",
        "# set handler\n",
        "stream_hdlr = logging.StreamHandler()\n",
        "file_hdlr = logging.FileHandler('/content/gdrive/My Drive/IDL_Project/logs/log_{}.log.log'.format(datetime.datetime.now()))\n",
        "\n",
        "formatter = logging.Formatter('%(asctime)s %(levelname)s %(message)s')\n",
        "stream_hdlr.setFormatter(formatter)\n",
        "file_hdlr.setFormatter(formatter)\n",
        "\n",
        "logger.addHandler(stream_hdlr)\n",
        "logger.addHandler(file_hdlr)\n",
        "\n",
        "logger.setLevel(logging.INFO)"
      ],
      "execution_count": 10,
      "outputs": []
    },
    {
      "cell_type": "code",
      "metadata": {
        "id": "zq_mk_bEBtlt"
      },
      "source": [
        "class ShuffleNet(nn.Module):\n",
        "    def __init__(self, nb_classes =10):\n",
        "        super(ShuffleNet, self).__init__()\n",
        "        self.shuffle = models.shufflenet_v2_x2_0()\n",
        "        self.linear = nn.Linear(1000, nb_classes)\n",
        "        \n",
        "    def forward(self, x):\n",
        "        x = self.shuffle(x)\n",
        "        x = self.linear(x)\n",
        "        return x"
      ],
      "execution_count": 11,
      "outputs": []
    },
    {
      "cell_type": "code",
      "metadata": {
        "id": "fFZ8ZtrqxZ7j",
        "outputId": "ed0cff4d-c9f1-45bc-ba24-aee28ba16cd5",
        "colab": {
          "base_uri": "https://localhost:8080/"
        }
      },
      "source": [
        "train_batchsize = 128\n",
        "test_batchsize = 100\n",
        "num_workers = 8\n",
        "num_classes = 10\n",
        "\n",
        "n_epochs = 25\n",
        "img_size = 224\n",
        "lr = 1e-4\n",
        "min_lr = 1e-8\n",
        "weight_decay = 5e-4\n",
        "num_models = 30\n",
        "\n",
        "noise_std = 0.3\n",
        "noise_dropout = 0.3\n",
        "\n",
        "device = torch.device(\"cuda\" if cuda else \"cpu\")\n",
        "\n",
        "hyper_params = {'lr': lr, \n",
        "                'min_lr': min_lr, \n",
        "                'weight_decay': weight_decay, \n",
        "                'num_models': num_models, \n",
        "                'num_epochs': n_epochs, \n",
        "                'noise_std': noise_std, \n",
        "                'noise_dropout':noise_dropout}\n",
        "logging.info(hyper_params)\n"
      ],
      "execution_count": 12,
      "outputs": [
        {
          "output_type": "stream",
          "text": [
            "2020-12-05 03:49:36,642 INFO {'lr': 0.0001, 'min_lr': 1e-08, 'weight_decay': 0.0005, 'num_models': 30, 'num_epochs': 25, 'noise_std': 0.5, 'noise_dropout': 0.5}\n"
          ],
          "name": "stderr"
        }
      ]
    },
    {
      "cell_type": "code",
      "metadata": {
        "id": "vUfvg4LvwMA0",
        "outputId": "fda8d93f-241a-4e18-c86a-eebffefd5a28",
        "colab": {
          "base_uri": "https://localhost:8080/",
          "height": 1000,
          "referenced_widgets": [
            "b5b90c260be847cda13fd729e1c20361",
            "4e0d8a7bae344390b5bebd5e6b47a471",
            "a429c5d441154aa9b2a568c1bab863ff",
            "53321428b1414412ab0a0398b2384a1f",
            "587b7d83176743d89e20c19fc1af95ec",
            "f8248ef71f9e47fd973fd599b9160af6",
            "87ee7898b25b41379f3dc61b7ed64763",
            "dc6886ca9e124c5391d90ca9722f3253"
          ]
        }
      },
      "source": [
        "seeds = np.arange(0, num_models)\n",
        "\n",
        "for seed in seeds:\n",
        "  logging.info('Seed: {}'.format(seed))\n",
        "  torch.manual_seed(seed)\n",
        "  \n",
        "\n",
        "  train_transform = transforms.Compose([transforms.Resize(size=img_size),\n",
        "                      transforms.ColorJitter(hue=.05, saturation=.05),\n",
        "                      transforms.RandomHorizontalFlip(p=0.5),\n",
        "                      transforms.RandomRotation(20, resample=PIL.Image.BILINEAR),\n",
        "                      transforms.ToTensor(),\n",
        "                      transforms.Normalize((0, 0, 0), (1, 1, 1)),\n",
        "                      AddGaussianNoise(0., noise_std, noise_dropout)])\n",
        "\n",
        "  test_transform = transforms.Compose([transforms.Resize(size=img_size),\n",
        "                     transforms.ToTensor(),\n",
        "                     transforms.Normalize((0, 0, 0), (1, 1, 1)),\n",
        "                     AddGaussianNoise(0., noise_std, noise_dropout)])\n",
        "\n",
        "  \n",
        "  trainset = torchvision.datasets.CIFAR10(root='./data', train=True, download=True, transform=train_transform)\n",
        "  testset = torchvision.datasets.CIFAR10(root='./data', train=False, download=True, transform=test_transform)\n",
        "  trainloader = torch.utils.data.DataLoader(trainset, batch_size=train_batchsize, shuffle=True, num_workers=num_workers)\n",
        "  testloader = torch.utils.data.DataLoader(testset, batch_size=test_batchsize, shuffle=False, num_workers=num_workers)\n",
        "\n",
        "  model = ShuffleNet(num_classes)\n",
        "  model.apply(init_weights)\n",
        "  criterion = nn.CrossEntropyLoss()\n",
        "  optimizer = optim.Adam(model.parameters(), lr=lr, weight_decay=weight_decay)\n",
        "  scheduler = lr_scheduler.ReduceLROnPlateau(optimizer, mode='min', factor=0.1, patience=1, cooldown=5, min_lr=min_lr, verbose=True)\n",
        "  scaler = torch.cuda.amp.GradScaler()\n",
        "  model.to(device)\n",
        "\n",
        "  # Train_loss = []\n",
        "  # Test_loss = []\n",
        "  # Test_acc = []\n",
        "\n",
        "  for i in range(n_epochs):\n",
        "    tic = time.time()\n",
        "    logging.info('Epoch: {}'.format(i))\n",
        "    train_loss = train_epoch(model, trainloader, criterion, optimizer)\n",
        "    test_loss, test_acc = test_model(model, testloader, criterion)\n",
        "    scheduler.step(test_loss)\n",
        "    # Train_loss.append(train_loss)\n",
        "    # Test_loss.append(test_loss)\n",
        "    # Test_acc.append(test_acc)\n",
        "    toc = time.time()\n",
        "    logging.info('Time: {}s'.format(toc - tic))\n",
        "    logging.info('='*20)\n",
        "    \n",
        "  torch.save({'model_state_dict': model.state_dict(),\n",
        "        'optimizer_state_dict': optimizer.state_dict(),\n",
        "        'scheduler_state_dict': scheduler.state_dict()}, \n",
        "        \"/content/gdrive/My Drive/IDL_Project/modelS/Model_shufflenet_{}\".format(seed))\n",
        "  \n",
        "  torch.cuda.empty_cache()\n",
        "  del model\n",
        "  del criterion\n",
        "  del optimizer\n",
        "  del scheduler\n",
        "  del scaler\n",
        "  del trainloader\n",
        "  del testloader\n",
        "  del train_transform\n",
        "  del test_transform\n",
        "\n",
        "  \n"
      ],
      "execution_count": null,
      "outputs": [
        {
          "output_type": "stream",
          "text": [
            "2020-12-05 03:50:06,430 INFO Seed: 0\n"
          ],
          "name": "stderr"
        },
        {
          "output_type": "stream",
          "text": [
            "Downloading https://www.cs.toronto.edu/~kriz/cifar-10-python.tar.gz to ./data/cifar-10-python.tar.gz\n"
          ],
          "name": "stdout"
        },
        {
          "output_type": "display_data",
          "data": {
            "application/vnd.jupyter.widget-view+json": {
              "model_id": "b5b90c260be847cda13fd729e1c20361",
              "version_minor": 0,
              "version_major": 2
            },
            "text/plain": [
              "HBox(children=(FloatProgress(value=1.0, bar_style='info', max=1.0), HTML(value='')))"
            ]
          },
          "metadata": {
            "tags": []
          }
        },
        {
          "output_type": "stream",
          "text": [
            "Extracting ./data/cifar-10-python.tar.gz to ./data\n",
            "Files already downloaded and verified\n"
          ],
          "name": "stdout"
        },
        {
          "output_type": "stream",
          "text": [
            "2020-12-05 03:50:25,164 INFO Epoch: 0\n",
            "2020-12-05 03:54:39,073 INFO Training Loss: 2.0350272923784183\n",
            "2020-12-05 03:54:39,074 INFO Training Accuracy: 24.618000000000002%\n",
            "2020-12-05 03:55:03,214 INFO Testing Loss: 1.9422382926940918\n",
            "2020-12-05 03:55:03,215 INFO Testing Accuracy: 31.35%\n",
            "2020-12-05 03:55:03,216 INFO Time: 278.05252480506897s\n",
            "2020-12-05 03:55:03,218 INFO ====================\n",
            "2020-12-05 03:55:03,219 INFO Epoch: 1\n",
            "2020-12-05 03:59:16,118 INFO Training Loss: 1.7971639547811444\n",
            "2020-12-05 03:59:16,119 INFO Training Accuracy: 34.086%\n",
            "2020-12-05 03:59:40,361 INFO Testing Loss: 1.6708365607261657\n",
            "2020-12-05 03:59:40,362 INFO Testing Accuracy: 38.93%\n",
            "2020-12-05 03:59:40,364 INFO Time: 277.14510917663574s\n",
            "2020-12-05 03:59:40,365 INFO ====================\n",
            "2020-12-05 03:59:40,367 INFO Epoch: 2\n",
            "2020-12-05 04:03:55,507 INFO Training Loss: 1.6626958715946167\n",
            "2020-12-05 04:03:55,509 INFO Training Accuracy: 39.058%\n",
            "2020-12-05 04:04:19,882 INFO Testing Loss: 1.5581510388851165\n",
            "2020-12-05 04:04:19,884 INFO Testing Accuracy: 42.88%\n",
            "2020-12-05 04:04:19,885 INFO Time: 279.51775002479553s\n",
            "2020-12-05 04:04:19,886 INFO ====================\n",
            "2020-12-05 04:04:19,887 INFO Epoch: 3\n",
            "2020-12-05 04:08:34,336 INFO Training Loss: 1.5669329007873145\n",
            "2020-12-05 04:08:34,338 INFO Training Accuracy: 42.936%\n",
            "2020-12-05 04:08:58,886 INFO Testing Loss: 1.4608221423625947\n",
            "2020-12-05 04:08:58,888 INFO Testing Accuracy: 46.910000000000004%\n",
            "2020-12-05 04:08:58,891 INFO Time: 279.0036289691925s\n",
            "2020-12-05 04:08:58,891 INFO ====================\n",
            "2020-12-05 04:08:58,893 INFO Epoch: 4\n",
            "2020-12-05 04:13:14,485 INFO Training Loss: 1.4822231680535904\n",
            "2020-12-05 04:13:14,487 INFO Training Accuracy: 46.308%\n",
            "2020-12-05 04:13:39,115 INFO Testing Loss: 1.408990399837494\n",
            "2020-12-05 04:13:39,117 INFO Testing Accuracy: 49.24%\n",
            "2020-12-05 04:13:39,118 INFO Time: 280.2254014015198s\n",
            "2020-12-05 04:13:39,119 INFO ====================\n",
            "2020-12-05 04:13:39,121 INFO Epoch: 5\n",
            "2020-12-05 04:17:57,331 INFO Training Loss: 1.3993148538462645\n",
            "2020-12-05 04:17:57,333 INFO Training Accuracy: 49.572%\n",
            "2020-12-05 04:18:21,980 INFO Testing Loss: 1.3642009317874908\n",
            "2020-12-05 04:18:21,982 INFO Testing Accuracy: 49.81%\n",
            "2020-12-05 04:18:21,983 INFO Time: 282.86210465431213s\n",
            "2020-12-05 04:18:21,984 INFO ====================\n",
            "2020-12-05 04:18:21,986 INFO Epoch: 6\n",
            "2020-12-05 04:22:40,479 INFO Training Loss: 1.3345412171405295\n",
            "2020-12-05 04:22:40,481 INFO Training Accuracy: 51.882%\n",
            "2020-12-05 04:23:05,121 INFO Testing Loss: 1.2490205228328706\n",
            "2020-12-05 04:23:05,123 INFO Testing Accuracy: 55.22%\n",
            "2020-12-05 04:23:05,124 INFO Time: 283.1384882926941s\n",
            "2020-12-05 04:23:05,126 INFO ====================\n",
            "2020-12-05 04:23:05,128 INFO Epoch: 7\n",
            "2020-12-05 04:27:24,690 INFO Training Loss: 1.262973452925377\n",
            "2020-12-05 04:27:24,692 INFO Training Accuracy: 54.728%\n",
            "2020-12-05 04:27:49,820 INFO Testing Loss: 1.2585581421852112\n",
            "2020-12-05 04:27:49,822 INFO Testing Accuracy: 55.96%\n",
            "2020-12-05 04:27:49,823 INFO Time: 284.69517397880554s\n",
            "2020-12-05 04:27:49,825 INFO ====================\n",
            "2020-12-05 04:27:49,826 INFO Epoch: 8\n",
            "2020-12-05 04:32:10,815 INFO Training Loss: 1.1982460526554175\n",
            "2020-12-05 04:32:10,816 INFO Training Accuracy: 57.094%\n",
            "2020-12-05 04:32:35,826 INFO Testing Loss: 1.1259286504983903\n",
            "2020-12-05 04:32:35,828 INFO Testing Accuracy: 59.75%\n",
            "2020-12-05 04:32:35,829 INFO Time: 286.0024964809418s\n",
            "2020-12-05 04:32:35,830 INFO ====================\n",
            "2020-12-05 04:32:35,831 INFO Epoch: 9\n",
            "2020-12-05 04:37:02,037 INFO Training Loss: 1.1347570091562198\n",
            "2020-12-05 04:37:02,039 INFO Training Accuracy: 59.611999999999995%\n",
            "2020-12-05 04:37:27,464 INFO Testing Loss: 1.079048280119896\n",
            "2020-12-05 04:37:27,466 INFO Testing Accuracy: 61.0%\n",
            "2020-12-05 04:37:27,467 INFO Time: 291.6362512111664s\n",
            "2020-12-05 04:37:27,469 INFO ====================\n",
            "2020-12-05 04:37:27,470 INFO Epoch: 10\n",
            "2020-12-05 04:41:52,830 INFO Training Loss: 1.0726629660257598\n",
            "2020-12-05 04:41:52,833 INFO Training Accuracy: 61.768%\n",
            "2020-12-05 04:42:18,080 INFO Testing Loss: 1.0363678598403931\n",
            "2020-12-05 04:42:18,082 INFO Testing Accuracy: 63.0%\n",
            "2020-12-05 04:42:18,083 INFO Time: 290.61342763900757s\n",
            "2020-12-05 04:42:18,085 INFO ====================\n",
            "2020-12-05 04:42:18,086 INFO Epoch: 11\n",
            "2020-12-05 04:46:40,571 INFO Training Loss: 1.0097902337913318\n",
            "2020-12-05 04:46:40,573 INFO Training Accuracy: 64.18199999999999%\n",
            "2020-12-05 04:47:05,230 INFO Testing Loss: 0.9984581083059311\n",
            "2020-12-05 04:47:05,231 INFO Testing Accuracy: 64.45%\n",
            "2020-12-05 04:47:05,233 INFO Time: 287.14614820480347s\n",
            "2020-12-05 04:47:05,234 INFO ====================\n",
            "2020-12-05 04:47:05,235 INFO Epoch: 12\n",
            "2020-12-05 04:51:27,014 INFO Training Loss: 0.953696556408387\n",
            "2020-12-05 04:51:27,016 INFO Training Accuracy: 66.278%\n",
            "2020-12-05 04:51:52,453 INFO Testing Loss: 0.9380871957540512\n",
            "2020-12-05 04:51:52,459 INFO Testing Accuracy: 66.89%\n",
            "2020-12-05 04:51:52,460 INFO Time: 287.2244861125946s\n",
            "2020-12-05 04:51:52,461 INFO ====================\n",
            "2020-12-05 04:51:52,462 INFO Epoch: 13\n",
            "2020-12-05 04:56:19,915 INFO Training Loss: 0.903545039236698\n",
            "2020-12-05 04:56:19,916 INFO Training Accuracy: 67.902%\n",
            "2020-12-05 04:56:45,555 INFO Testing Loss: 0.9048816239833832\n",
            "2020-12-05 04:56:45,556 INFO Testing Accuracy: 68.2%\n",
            "2020-12-05 04:56:45,558 INFO Time: 293.0953576564789s\n",
            "2020-12-05 04:56:45,559 INFO ====================\n",
            "2020-12-05 04:56:45,561 INFO Epoch: 14\n",
            "2020-12-05 05:01:11,530 INFO Training Loss: 0.8477378393073216\n",
            "2020-12-05 05:01:11,532 INFO Training Accuracy: 70.04599999999999%\n",
            "2020-12-05 05:01:37,045 INFO Testing Loss: 0.8773182809352875\n",
            "2020-12-05 05:01:37,047 INFO Testing Accuracy: 69.78999999999999%\n",
            "2020-12-05 05:01:37,048 INFO Time: 291.4872043132782s\n",
            "2020-12-05 05:01:37,049 INFO ====================\n",
            "2020-12-05 05:01:37,051 INFO Epoch: 15\n",
            "2020-12-05 05:06:04,029 INFO Training Loss: 0.8009563986297763\n",
            "2020-12-05 05:06:04,031 INFO Training Accuracy: 71.828%\n",
            "2020-12-05 05:06:29,524 INFO Testing Loss: 0.8355183583498001\n",
            "2020-12-05 05:06:29,526 INFO Testing Accuracy: 70.81%\n",
            "2020-12-05 05:06:29,528 INFO Time: 292.4765577316284s\n",
            "2020-12-05 05:06:29,530 INFO ====================\n",
            "2020-12-05 05:06:29,531 INFO Epoch: 16\n",
            "2020-12-05 05:10:55,400 INFO Training Loss: 0.7558075104985396\n",
            "2020-12-05 05:10:55,402 INFO Training Accuracy: 73.14399999999999%\n",
            "2020-12-05 05:11:20,547 INFO Testing Loss: 0.8200413984060287\n",
            "2020-12-05 05:11:20,549 INFO Testing Accuracy: 71.89999999999999%\n",
            "2020-12-05 05:11:20,550 INFO Time: 291.0191020965576s\n",
            "2020-12-05 05:11:20,552 INFO ====================\n",
            "2020-12-05 05:11:20,555 INFO Epoch: 17\n"
          ],
          "name": "stderr"
        }
      ]
    },
    {
      "cell_type": "code",
      "metadata": {
        "id": "e6x5eKudBWIT"
      },
      "source": [
        ""
      ],
      "execution_count": null,
      "outputs": []
    }
  ]
}