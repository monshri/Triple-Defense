{
  "nbformat": 4,
  "nbformat_minor": 0,
  "metadata": {
    "accelerator": "GPU",
    "colab": {
      "name": "Copy of Copy of Copy of idl_project_ensemble.ipynb",
      "provenance": [],
      "collapsed_sections": [
        "J0oc512o9c4d",
        "IffxeALQ_ajk",
        "inhJeBV-9ic0"
      ],
      "toc_visible": true,
      "machine_shape": "hm",
      "include_colab_link": true
    },
    "kernelspec": {
      "display_name": "Python 3",
      "name": "python3"
    },
    "widgets": {
      "application/vnd.jupyter.widget-state+json": {
        "48d1fdd58b6b48d5abcb5270ee0c928e": {
          "model_module": "@jupyter-widgets/controls",
          "model_name": "HBoxModel",
          "state": {
            "_view_name": "HBoxView",
            "_dom_classes": [],
            "_model_name": "HBoxModel",
            "_view_module": "@jupyter-widgets/controls",
            "_model_module_version": "1.5.0",
            "_view_count": null,
            "_view_module_version": "1.5.0",
            "box_style": "",
            "layout": "IPY_MODEL_5d8b853d2a874cf0a14eb18e7ceb024b",
            "_model_module": "@jupyter-widgets/controls",
            "children": [
              "IPY_MODEL_147799d6771b4bf69a1458ef8c0783da",
              "IPY_MODEL_ee1305dcd7c2423da4c47f7f48950512"
            ]
          }
        },
        "5d8b853d2a874cf0a14eb18e7ceb024b": {
          "model_module": "@jupyter-widgets/base",
          "model_name": "LayoutModel",
          "state": {
            "_view_name": "LayoutView",
            "grid_template_rows": null,
            "right": null,
            "justify_content": null,
            "_view_module": "@jupyter-widgets/base",
            "overflow": null,
            "_model_module_version": "1.2.0",
            "_view_count": null,
            "flex_flow": null,
            "width": null,
            "min_width": null,
            "border": null,
            "align_items": null,
            "bottom": null,
            "_model_module": "@jupyter-widgets/base",
            "top": null,
            "grid_column": null,
            "overflow_y": null,
            "overflow_x": null,
            "grid_auto_flow": null,
            "grid_area": null,
            "grid_template_columns": null,
            "flex": null,
            "_model_name": "LayoutModel",
            "justify_items": null,
            "grid_row": null,
            "max_height": null,
            "align_content": null,
            "visibility": null,
            "align_self": null,
            "height": null,
            "min_height": null,
            "padding": null,
            "grid_auto_rows": null,
            "grid_gap": null,
            "max_width": null,
            "order": null,
            "_view_module_version": "1.2.0",
            "grid_template_areas": null,
            "object_position": null,
            "object_fit": null,
            "grid_auto_columns": null,
            "margin": null,
            "display": null,
            "left": null
          }
        },
        "147799d6771b4bf69a1458ef8c0783da": {
          "model_module": "@jupyter-widgets/controls",
          "model_name": "FloatProgressModel",
          "state": {
            "_view_name": "ProgressView",
            "style": "IPY_MODEL_910d473070ab406eb77259a22be19f91",
            "_dom_classes": [],
            "description": "",
            "_model_name": "FloatProgressModel",
            "bar_style": "success",
            "max": 1,
            "_view_module": "@jupyter-widgets/controls",
            "_model_module_version": "1.5.0",
            "value": 1,
            "_view_count": null,
            "_view_module_version": "1.5.0",
            "orientation": "horizontal",
            "min": 0,
            "description_tooltip": null,
            "_model_module": "@jupyter-widgets/controls",
            "layout": "IPY_MODEL_413248edabeb449e95f0e264f13cdf9b"
          }
        },
        "ee1305dcd7c2423da4c47f7f48950512": {
          "model_module": "@jupyter-widgets/controls",
          "model_name": "HTMLModel",
          "state": {
            "_view_name": "HTMLView",
            "style": "IPY_MODEL_ab359e1e2c5a4875bcff0834a9f04b2c",
            "_dom_classes": [],
            "description": "",
            "_model_name": "HTMLModel",
            "placeholder": "​",
            "_view_module": "@jupyter-widgets/controls",
            "_model_module_version": "1.5.0",
            "value": " 170500096/? [00:09&lt;00:00, 18533606.05it/s]",
            "_view_count": null,
            "_view_module_version": "1.5.0",
            "description_tooltip": null,
            "_model_module": "@jupyter-widgets/controls",
            "layout": "IPY_MODEL_1c6c88cdf1bc4da9b75b768a9a24a2fe"
          }
        },
        "910d473070ab406eb77259a22be19f91": {
          "model_module": "@jupyter-widgets/controls",
          "model_name": "ProgressStyleModel",
          "state": {
            "_view_name": "StyleView",
            "_model_name": "ProgressStyleModel",
            "description_width": "initial",
            "_view_module": "@jupyter-widgets/base",
            "_model_module_version": "1.5.0",
            "_view_count": null,
            "_view_module_version": "1.2.0",
            "bar_color": null,
            "_model_module": "@jupyter-widgets/controls"
          }
        },
        "413248edabeb449e95f0e264f13cdf9b": {
          "model_module": "@jupyter-widgets/base",
          "model_name": "LayoutModel",
          "state": {
            "_view_name": "LayoutView",
            "grid_template_rows": null,
            "right": null,
            "justify_content": null,
            "_view_module": "@jupyter-widgets/base",
            "overflow": null,
            "_model_module_version": "1.2.0",
            "_view_count": null,
            "flex_flow": null,
            "width": null,
            "min_width": null,
            "border": null,
            "align_items": null,
            "bottom": null,
            "_model_module": "@jupyter-widgets/base",
            "top": null,
            "grid_column": null,
            "overflow_y": null,
            "overflow_x": null,
            "grid_auto_flow": null,
            "grid_area": null,
            "grid_template_columns": null,
            "flex": null,
            "_model_name": "LayoutModel",
            "justify_items": null,
            "grid_row": null,
            "max_height": null,
            "align_content": null,
            "visibility": null,
            "align_self": null,
            "height": null,
            "min_height": null,
            "padding": null,
            "grid_auto_rows": null,
            "grid_gap": null,
            "max_width": null,
            "order": null,
            "_view_module_version": "1.2.0",
            "grid_template_areas": null,
            "object_position": null,
            "object_fit": null,
            "grid_auto_columns": null,
            "margin": null,
            "display": null,
            "left": null
          }
        },
        "ab359e1e2c5a4875bcff0834a9f04b2c": {
          "model_module": "@jupyter-widgets/controls",
          "model_name": "DescriptionStyleModel",
          "state": {
            "_view_name": "StyleView",
            "_model_name": "DescriptionStyleModel",
            "description_width": "",
            "_view_module": "@jupyter-widgets/base",
            "_model_module_version": "1.5.0",
            "_view_count": null,
            "_view_module_version": "1.2.0",
            "_model_module": "@jupyter-widgets/controls"
          }
        },
        "1c6c88cdf1bc4da9b75b768a9a24a2fe": {
          "model_module": "@jupyter-widgets/base",
          "model_name": "LayoutModel",
          "state": {
            "_view_name": "LayoutView",
            "grid_template_rows": null,
            "right": null,
            "justify_content": null,
            "_view_module": "@jupyter-widgets/base",
            "overflow": null,
            "_model_module_version": "1.2.0",
            "_view_count": null,
            "flex_flow": null,
            "width": null,
            "min_width": null,
            "border": null,
            "align_items": null,
            "bottom": null,
            "_model_module": "@jupyter-widgets/base",
            "top": null,
            "grid_column": null,
            "overflow_y": null,
            "overflow_x": null,
            "grid_auto_flow": null,
            "grid_area": null,
            "grid_template_columns": null,
            "flex": null,
            "_model_name": "LayoutModel",
            "justify_items": null,
            "grid_row": null,
            "max_height": null,
            "align_content": null,
            "visibility": null,
            "align_self": null,
            "height": null,
            "min_height": null,
            "padding": null,
            "grid_auto_rows": null,
            "grid_gap": null,
            "max_width": null,
            "order": null,
            "_view_module_version": "1.2.0",
            "grid_template_areas": null,
            "object_position": null,
            "object_fit": null,
            "grid_auto_columns": null,
            "margin": null,
            "display": null,
            "left": null
          }
        }
      }
    }
  },
  "cells": [
    {
      "cell_type": "markdown",
      "metadata": {
        "id": "view-in-github",
        "colab_type": "text"
      },
      "source": [
        "<a href=\"https://colab.research.google.com/github/KaichengDING/Triple-Defense/blob/main/idl_project_ensemble.ipynb\" target=\"_parent\"><img src=\"https://colab.research.google.com/assets/colab-badge.svg\" alt=\"Open In Colab\"/></a>"
      ]
    },
    {
      "cell_type": "code",
      "metadata": {
        "id": "4ESeViSYxQfa",
        "colab": {
          "base_uri": "https://localhost:8080/"
        },
        "outputId": "d86b7a45-ad43-4ccb-905c-16bf5777c1bd"
      },
      "source": [
        "from google.colab import drive\n",
        "drive.mount('/content/gdrive')"
      ],
      "execution_count": 1,
      "outputs": [
        {
          "output_type": "stream",
          "text": [
            "Mounted at /content/gdrive\n"
          ],
          "name": "stdout"
        }
      ]
    },
    {
      "cell_type": "code",
      "metadata": {
        "id": "LzKNCLpGws5x",
        "colab": {
          "base_uri": "https://localhost:8080/"
        },
        "outputId": "bd0f224e-c644-4587-8107-6be6023c68a5"
      },
      "source": [
        "!pip install adversarial-robustness-toolbox"
      ],
      "execution_count": 2,
      "outputs": [
        {
          "output_type": "stream",
          "text": [
            "Collecting adversarial-robustness-toolbox\n",
            "\u001b[?25l  Downloading https://files.pythonhosted.org/packages/8c/d5/f7c36036dc385c471b12559fa28aba73a3efbb392cfec12a751c5b8df44f/adversarial_robustness_toolbox-1.4.2-py3-none-any.whl (765kB)\n",
            "\u001b[K     |████████████████████████████████| 768kB 6.7MB/s \n",
            "\u001b[?25hRequirement already satisfied: Pillow in /usr/local/lib/python3.6/dist-packages (from adversarial-robustness-toolbox) (7.0.0)\n",
            "Collecting scikit-learn==0.22.2\n",
            "\u001b[?25l  Downloading https://files.pythonhosted.org/packages/e1/7f/366dcba1ba076a88a50bea732dbc033c0c5bbf7876010e6edc67948579d5/scikit_learn-0.22.2-cp36-cp36m-manylinux1_x86_64.whl (7.1MB)\n",
            "\u001b[K     |████████████████████████████████| 7.1MB 18.7MB/s \n",
            "\u001b[?25hRequirement already satisfied: statsmodels in /usr/local/lib/python3.6/dist-packages (from adversarial-robustness-toolbox) (0.10.2)\n",
            "Collecting pydub\n",
            "  Downloading https://files.pythonhosted.org/packages/7b/d1/fbfa79371a8cd9bb15c2e3c480d7e6e340ed5cc55005174e16f48418333a/pydub-0.24.1-py2.py3-none-any.whl\n",
            "Collecting mypy\n",
            "\u001b[?25l  Downloading https://files.pythonhosted.org/packages/e2/cb/cf5530d063e7e703e2fbec677bfba633de6e70fe44bc323deeaa27f273b8/mypy-0.790-cp36-cp36m-manylinux1_x86_64.whl (21.0MB)\n",
            "\u001b[K     |████████████████████████████████| 21.0MB 1.4MB/s \n",
            "\u001b[?25hRequirement already satisfied: six in /usr/local/lib/python3.6/dist-packages (from adversarial-robustness-toolbox) (1.15.0)\n",
            "Requirement already satisfied: setuptools in /usr/local/lib/python3.6/dist-packages (from adversarial-robustness-toolbox) (50.3.2)\n",
            "Requirement already satisfied: matplotlib in /usr/local/lib/python3.6/dist-packages (from adversarial-robustness-toolbox) (3.2.2)\n",
            "Requirement already satisfied: numpy in /usr/local/lib/python3.6/dist-packages (from adversarial-robustness-toolbox) (1.18.5)\n",
            "Requirement already satisfied: resampy in /usr/local/lib/python3.6/dist-packages (from adversarial-robustness-toolbox) (0.2.2)\n",
            "Requirement already satisfied: scipy==1.4.1 in /usr/local/lib/python3.6/dist-packages (from adversarial-robustness-toolbox) (1.4.1)\n",
            "Collecting ffmpeg-python\n",
            "  Downloading https://files.pythonhosted.org/packages/d7/0c/56be52741f75bad4dc6555991fabd2e07b432d333da82c11ad701123888a/ffmpeg_python-0.2.0-py3-none-any.whl\n",
            "Collecting cma\n",
            "\u001b[?25l  Downloading https://files.pythonhosted.org/packages/36/c0/0a1c41f7cad0a51e07991cf86423d0e6651d035f1fe7dcff48e8858848f2/cma-3.0.3-py2.py3-none-any.whl (230kB)\n",
            "\u001b[K     |████████████████████████████████| 235kB 47.7MB/s \n",
            "\u001b[?25hRequirement already satisfied: tqdm in /usr/local/lib/python3.6/dist-packages (from adversarial-robustness-toolbox) (4.41.1)\n",
            "Requirement already satisfied: joblib>=0.11 in /usr/local/lib/python3.6/dist-packages (from scikit-learn==0.22.2->adversarial-robustness-toolbox) (0.17.0)\n",
            "Requirement already satisfied: pandas>=0.19 in /usr/local/lib/python3.6/dist-packages (from statsmodels->adversarial-robustness-toolbox) (1.1.4)\n",
            "Requirement already satisfied: patsy>=0.4.0 in /usr/local/lib/python3.6/dist-packages (from statsmodels->adversarial-robustness-toolbox) (0.5.1)\n",
            "Collecting typed-ast<1.5.0,>=1.4.0\n",
            "\u001b[?25l  Downloading https://files.pythonhosted.org/packages/90/ed/5459080d95eb87a02fe860d447197be63b6e2b5e9ff73c2b0a85622994f4/typed_ast-1.4.1-cp36-cp36m-manylinux1_x86_64.whl (737kB)\n",
            "\u001b[K     |████████████████████████████████| 747kB 49.2MB/s \n",
            "\u001b[?25hRequirement already satisfied: typing-extensions>=3.7.4 in /usr/local/lib/python3.6/dist-packages (from mypy->adversarial-robustness-toolbox) (3.7.4.3)\n",
            "Collecting mypy-extensions<0.5.0,>=0.4.3\n",
            "  Downloading https://files.pythonhosted.org/packages/5c/eb/975c7c080f3223a5cdaff09612f3a5221e4ba534f7039db34c35d95fa6a5/mypy_extensions-0.4.3-py2.py3-none-any.whl\n",
            "Requirement already satisfied: cycler>=0.10 in /usr/local/lib/python3.6/dist-packages (from matplotlib->adversarial-robustness-toolbox) (0.10.0)\n",
            "Requirement already satisfied: python-dateutil>=2.1 in /usr/local/lib/python3.6/dist-packages (from matplotlib->adversarial-robustness-toolbox) (2.8.1)\n",
            "Requirement already satisfied: kiwisolver>=1.0.1 in /usr/local/lib/python3.6/dist-packages (from matplotlib->adversarial-robustness-toolbox) (1.3.1)\n",
            "Requirement already satisfied: pyparsing!=2.0.4,!=2.1.2,!=2.1.6,>=2.0.1 in /usr/local/lib/python3.6/dist-packages (from matplotlib->adversarial-robustness-toolbox) (2.4.7)\n",
            "Requirement already satisfied: numba>=0.32 in /usr/local/lib/python3.6/dist-packages (from resampy->adversarial-robustness-toolbox) (0.48.0)\n",
            "Requirement already satisfied: future in /usr/local/lib/python3.6/dist-packages (from ffmpeg-python->adversarial-robustness-toolbox) (0.16.0)\n",
            "Requirement already satisfied: pytz>=2017.2 in /usr/local/lib/python3.6/dist-packages (from pandas>=0.19->statsmodels->adversarial-robustness-toolbox) (2018.9)\n",
            "Requirement already satisfied: llvmlite<0.32.0,>=0.31.0dev0 in /usr/local/lib/python3.6/dist-packages (from numba>=0.32->resampy->adversarial-robustness-toolbox) (0.31.0)\n",
            "Installing collected packages: scikit-learn, pydub, typed-ast, mypy-extensions, mypy, ffmpeg-python, cma, adversarial-robustness-toolbox\n",
            "  Found existing installation: scikit-learn 0.22.2.post1\n",
            "    Uninstalling scikit-learn-0.22.2.post1:\n",
            "      Successfully uninstalled scikit-learn-0.22.2.post1\n",
            "Successfully installed adversarial-robustness-toolbox-1.4.2 cma-3.0.3 ffmpeg-python-0.2.0 mypy-0.790 mypy-extensions-0.4.3 pydub-0.24.1 scikit-learn-0.22.2 typed-ast-1.4.1\n"
          ],
          "name": "stdout"
        }
      ]
    },
    {
      "cell_type": "code",
      "metadata": {
        "id": "6SqUPdAKkDIn",
        "colab": {
          "base_uri": "https://localhost:8080/"
        },
        "outputId": "f404fd81-e00c-4108-8319-dda845e2b396"
      },
      "source": [
        "import torch\n",
        "import torchvision\n",
        "import torchvision.transforms as transforms\n",
        "import torchvision.models as models\n",
        "\n",
        "import numpy as np\n",
        "import pandas as pd\n",
        "\n",
        "import PIL\n",
        "\n",
        "import sys\n",
        "import torch.nn as nn\n",
        "import torch.nn.functional as F\n",
        "import torch.optim as optim\n",
        "import torch.optim.lr_scheduler as lr_scheduler\n",
        "\n",
        "from torch.utils import data\n",
        "\n",
        "from art.attacks.evasion import FastGradientMethod\n",
        "from art.attacks.evasion import ProjectedGradientDescentPyTorch\n",
        "from art.estimators.classification import PyTorchClassifier\n",
        "\n",
        "import matplotlib.pyplot as plt\n",
        "import time\n",
        "import logging\n",
        "import datetime\n",
        "import random\n",
        "\n",
        "cuda = torch.cuda.is_available()\n",
        "cuda"
      ],
      "execution_count": 3,
      "outputs": [
        {
          "output_type": "execute_result",
          "data": {
            "text/plain": [
              "True"
            ]
          },
          "metadata": {
            "tags": []
          },
          "execution_count": 3
        }
      ]
    },
    {
      "cell_type": "code",
      "metadata": {
        "id": "RYALLsrXws54"
      },
      "source": [
        "torch.multiprocessing.set_sharing_strategy('file_system')"
      ],
      "execution_count": 4,
      "outputs": []
    },
    {
      "cell_type": "code",
      "metadata": {
        "id": "PfyaOczXoRqQ"
      },
      "source": [
        "class AddGaussianNoise(object):\n",
        "    def __init__(self, mean=0., std=1.):\n",
        "        self.std = std\n",
        "        self.mean = mean\n",
        "        \n",
        "    def __call__(self, tensor):\n",
        "      res = tensor + torch.randn(tensor.size()) * self.std + self.mean\n",
        "      return torch.clamp(input=res, min=0.0, max=1.0)\n",
        "    \n",
        "    def __repr__(self):\n",
        "        return self.__class__.__name__ + '(mean={0}, std={1})'.format(self.mean, self.std)"
      ],
      "execution_count": 5,
      "outputs": []
    },
    {
      "cell_type": "code",
      "metadata": {
        "id": "zq_mk_bEBtlt"
      },
      "source": [
        "class VGG16(nn.Module):\n",
        "    def __init__(self, nb_classes=10):\n",
        "        super(VGG16, self).__init__()\n",
        "        self.vgg16 = models.vgg16_bn()\n",
        "        self.linear = nn.Linear(1000, nb_classes)\n",
        "        \n",
        "    def forward(self, x):\n",
        "        x = self.vgg16(x)\n",
        "        x = self.linear(x)\n",
        "        return x"
      ],
      "execution_count": 6,
      "outputs": []
    },
    {
      "cell_type": "code",
      "metadata": {
        "id": "UbtgtphTg1XH"
      },
      "source": [
        "class ShuffleNetV2(nn.Module):\n",
        "  def __init__(self, nb_classes=10):\n",
        "    super(ShuffleNetV2, self).__init__()\n",
        "    self.shufflenet = models.shufflenet_v2_x2_0()\n",
        "    self.linear = nn.Linear(1000, nb_classes)\n",
        "        \n",
        "  def forward(self, x):\n",
        "    x = self.shufflenet(x)\n",
        "    x = self.linear(x)\n",
        "    return x"
      ],
      "execution_count": 7,
      "outputs": []
    },
    {
      "cell_type": "code",
      "metadata": {
        "id": "M01vRtcK-Zdb"
      },
      "source": [
        "class ShuffleNet(nn.Module):\n",
        "    def __init__(self, nb_classes =10):\n",
        "        super(ShuffleNet, self).__init__()\n",
        "        self.shuffle = models.shufflenet_v2_x2_0()\n",
        "        self.linear = nn.Linear(1000, nb_classes)\n",
        "        \n",
        "    def forward(self, x):\n",
        "        x = self.shuffle(x)\n",
        "        x = self.linear(x)\n",
        "        return x"
      ],
      "execution_count": 8,
      "outputs": []
    },
    {
      "cell_type": "code",
      "metadata": {
        "id": "dXX4443Y16Ul"
      },
      "source": [
        "# configure logging\n",
        "logger = logging.getLogger(\"\")\n",
        "\n",
        "# reset handler\n",
        "for handler in logging.root.handlers[:]:\n",
        "  logging.root.removeHandler(handler)\n",
        "\n",
        "# set handler\n",
        "stream_hdlr = logging.StreamHandler()\n",
        "# logging on aws ec2\n",
        "# file_hdlr = logging.FileHandler('/home/ubuntu/project/logs/'.format(datetime.datetime.now()))\n",
        "# logging on colab\n",
        "file_hdlr = logging.FileHandler('/content/gdrive/My Drive/IDL_Project/logs/log_{}.log'.format(datetime.datetime.now()))\n",
        "\n",
        "formatter = logging.Formatter('%(asctime)s %(levelname)s %(message)s')\n",
        "stream_hdlr.setFormatter(formatter)\n",
        "file_hdlr.setFormatter(formatter)\n",
        "\n",
        "logger.addHandler(stream_hdlr)\n",
        "logger.addHandler(file_hdlr)\n",
        "\n",
        "logger.setLevel(logging.INFO)"
      ],
      "execution_count": 9,
      "outputs": []
    },
    {
      "cell_type": "code",
      "metadata": {
        "id": "fFZ8ZtrqxZ7j"
      },
      "source": [
        "test_batchsize = 100\n",
        "num_workers = 4\n",
        "num_classes = 10\n",
        "img_size = 224\n",
        "noise_std = 0.1\n",
        "\n",
        "device = torch.device(\"cuda\" if cuda else \"cpu\")\n"
      ],
      "execution_count": 10,
      "outputs": []
    },
    {
      "cell_type": "markdown",
      "metadata": {
        "id": "BFiB-FbgT9sk"
      },
      "source": [
        "# Get test examples"
      ]
    },
    {
      "cell_type": "code",
      "metadata": {
        "id": "XV2pPKKzeESx",
        "colab": {
          "base_uri": "https://localhost:8080/",
          "height": 82,
          "referenced_widgets": [
            "48d1fdd58b6b48d5abcb5270ee0c928e",
            "5d8b853d2a874cf0a14eb18e7ceb024b",
            "147799d6771b4bf69a1458ef8c0783da",
            "ee1305dcd7c2423da4c47f7f48950512",
            "910d473070ab406eb77259a22be19f91",
            "413248edabeb449e95f0e264f13cdf9b",
            "ab359e1e2c5a4875bcff0834a9f04b2c",
            "1c6c88cdf1bc4da9b75b768a9a24a2fe"
          ]
        },
        "outputId": "7878858d-be76-4319-c8d2-fb1999cf55b1"
      },
      "source": [
        "test_transform = transforms.Compose([transforms.Resize(size=img_size),\n",
        "                     transforms.ToTensor(),\n",
        "                     transforms.Normalize((0, 0, 0), (1, 1, 1))])\n",
        "testset = torchvision.datasets.CIFAR10(root='./data', train=False, download=True, transform=test_transform)\n",
        "testloader = torch.utils.data.DataLoader(testset, batch_size=test_batchsize, shuffle=False, num_workers=num_workers, drop_last=True)"
      ],
      "execution_count": 11,
      "outputs": [
        {
          "output_type": "stream",
          "text": [
            "Downloading https://www.cs.toronto.edu/~kriz/cifar-10-python.tar.gz to ./data/cifar-10-python.tar.gz\n"
          ],
          "name": "stdout"
        },
        {
          "output_type": "display_data",
          "data": {
            "application/vnd.jupyter.widget-view+json": {
              "model_id": "48d1fdd58b6b48d5abcb5270ee0c928e",
              "version_minor": 0,
              "version_major": 2
            },
            "text/plain": [
              "HBox(children=(FloatProgress(value=1.0, bar_style='info', max=1.0), HTML(value='')))"
            ]
          },
          "metadata": {
            "tags": []
          }
        },
        {
          "output_type": "stream",
          "text": [
            "Extracting ./data/cifar-10-python.tar.gz to ./data\n"
          ],
          "name": "stdout"
        }
      ]
    },
    {
      "cell_type": "markdown",
      "metadata": {
        "id": "BOPbwP7FTWEY"
      },
      "source": [
        "# Load Saved Models"
      ]
    },
    {
      "cell_type": "code",
      "metadata": {
        "id": "MUiLYb1EeNtS",
        "outputId": "19888bd6-e0fa-46a2-a30a-9f470500f482",
        "colab": {
          "base_uri": "https://localhost:8080/"
        }
      },
      "source": [
        "# models with 0.1 training noise\n",
        "model_names = ['ShuffleNet_1',\n",
        "               'ShuffleNet_2',\n",
        "               'ShuffleNet_3',\n",
        "               'ShuffleNet_4',\n",
        "               'ShuffleNet_5',\n",
        "               'ShuffleNet_6',\n",
        "               'ShuffleNet_7',\n",
        "               'ShuffleNet_8',\n",
        "               'ShuffleNet_31',\n",
        "               'ShuffleNet_32',\n",
        "               'ShuffleNet_33',\n",
        "               'ShuffleNet_34',\n",
        "               'ShuffleNet_35',\n",
        "               'ShuffleNet_36',\n",
        "               'ShuffleNet_37',\n",
        "               'ShuffleNet_38',\n",
        "               'ShuffleNet_39',\n",
        "               'ShuffleNet_61',\n",
        "               'ShuffleNet_62',\n",
        "               'ShuffleNet_63',\n",
        "               'ShuffleNet_64',\n",
        "               'ShuffleNet_65',\n",
        "               'ShuffleNet_66',\n",
        "               'ShuffleNet_67',\n",
        "               'ShuffleNet_68',\n",
        "               'ShuffleNet_69',\n",
        "               'ShuffleNet_70',\n",
        "               'ShuffleNet_71',\n",
        "               'ShuffleNet_72',\n",
        "               'ShuffleNet_73']\n",
        "\n",
        "# models with 0.06 training noise\n",
        "# model_names = ['Model_45', \n",
        "#                'Model_46', \n",
        "#                'Model_47', \n",
        "#                'Model_48',\n",
        "#                'Model_49',\n",
        "#                'Model_50']\n",
        "\n",
        "num_models = len(model_names)\n",
        "num_models_selected = 6\n",
        "num_classes = 10\n",
        "\n",
        "model_dict = {}\n",
        "for model_name in model_names:\n",
        "  model = ShuffleNet()\n",
        "  model_data = torch.load('/content/gdrive/My Drive/IDL_Project/modelS/{}'.format(model_name), map_location=torch.device('cpu'))\n",
        "  model.load_state_dict(model_data['model_state_dict'])\n",
        "  model = model.to(device)\n",
        "  model_dict[model_name] = model"
      ],
      "execution_count": 12,
      "outputs": [
        {
          "output_type": "stream",
          "text": [
            "\n"
          ],
          "name": "stdout"
        }
      ]
    },
    {
      "cell_type": "code",
      "metadata": {
        "id": "Eba3GxdD_brK",
        "colab": {
          "base_uri": "https://localhost:8080/"
        },
        "outputId": "3bfa95b3-1dce-4521-8b6b-e6199dd476be"
      },
      "source": [
        "print(num_models)\n",
        "num_models_selected = 15"
      ],
      "execution_count": 50,
      "outputs": [
        {
          "output_type": "stream",
          "text": [
            "30\n"
          ],
          "name": "stdout"
        }
      ]
    },
    {
      "cell_type": "code",
      "metadata": {
        "id": "u7ZvF2-PiFZ1",
        "colab": {
          "base_uri": "https://localhost:8080/"
        },
        "outputId": "869c44ef-a115-4467-8488-92ea3b562134"
      },
      "source": [
        "!nvidia-smi"
      ],
      "execution_count": 15,
      "outputs": [
        {
          "output_type": "stream",
          "text": [
            "Thu Nov 19 20:45:51 2020       \n",
            "+-----------------------------------------------------------------------------+\n",
            "| NVIDIA-SMI 455.38       Driver Version: 418.67       CUDA Version: 10.1     |\n",
            "|-------------------------------+----------------------+----------------------+\n",
            "| GPU  Name        Persistence-M| Bus-Id        Disp.A | Volatile Uncorr. ECC |\n",
            "| Fan  Temp  Perf  Pwr:Usage/Cap|         Memory-Usage | GPU-Util  Compute M. |\n",
            "|                               |                      |               MIG M. |\n",
            "|===============================+======================+======================|\n",
            "|   0  Tesla V100-SXM2...  Off  | 00000000:00:04.0 Off |                    0 |\n",
            "| N/A   34C    P0    38W / 300W |   2237MiB / 16130MiB |      0%      Default |\n",
            "|                               |                      |                 ERR! |\n",
            "+-------------------------------+----------------------+----------------------+\n",
            "                                                                               \n",
            "+-----------------------------------------------------------------------------+\n",
            "| Processes:                                                                  |\n",
            "|  GPU   GI   CI        PID   Type   Process name                  GPU Memory |\n",
            "|        ID   ID                                                   Usage      |\n",
            "|=============================================================================|\n",
            "|  No running processes found                                                 |\n",
            "+-----------------------------------------------------------------------------+\n"
          ],
          "name": "stdout"
        }
      ]
    },
    {
      "cell_type": "markdown",
      "metadata": {
        "id": "J0oc512o9c4d"
      },
      "source": [
        "# Ensemble Implementation 1"
      ]
    },
    {
      "cell_type": "code",
      "metadata": {
        "id": "fh0qIrX8am-z"
      },
      "source": [
        "class MyEnsemble(nn.Module):\n",
        "    def __init__(self, model_dict, num_models_selected, noise_std, num_classes=10):\n",
        "        super(MyEnsemble, self).__init__()\n",
        "        self.model_dict = model_dict\n",
        "        self.num_models = len(model_dict)\n",
        "        self.num_models_selected = num_models_selected\n",
        "        self.num_classes = num_classes\n",
        "        self.noise_std = noise_std\n",
        "        \n",
        "    def forward(self, x):\n",
        "        indices = [i for i in range(self.num_models)]\n",
        "        random.shuffle(indices)\n",
        "        indices = indices[:self.num_models_selected]\n",
        "        models = [*self.model_dict]\n",
        "        models_selected = [models[idx] for idx in indices]\n",
        "\n",
        "        logits_list = []\n",
        "        labels_list = []\n",
        "\n",
        "        noise = torch.randn(x.size()) * self.noise_std\n",
        "        noise = noise.to(device)\n",
        "        x_noised = x + noise\n",
        "\n",
        "        for model_name in models_selected:\n",
        "          # model = model.to(device)\n",
        "          model = self.model_dict[model_name]\n",
        "          logits = model(x_noised)\n",
        "          label_out = torch.unsqueeze(torch.argmax(torch.nn.functional.softmax(logits, dim=0), dim=1), dim=0)\n",
        "          logits = torch.unsqueeze(logits, dim=0)\n",
        "          labels_list.append(label_out)\n",
        "          logits_list.append(logits)\n",
        "          # model = model.to('cpu')\n",
        "        \n",
        "        # majority vote\n",
        "        labels_tensor = torch.cat(labels_list, dim=0)\n",
        "        logits_tensor = torch.cat(logits_list, dim=0)\n",
        "        \n",
        "        del noise\n",
        "        del logits_list\n",
        "        del labels_list\n",
        "\n",
        "        voted_class = torch.max(labels_tensor, dim=0) # possibly ties\n",
        "        mask = (labels_tensor == voted_class.values).int()\n",
        "        mask = mask.unsqueeze(dim=1).repeat(1, num_classes, 1)\n",
        "        mask = mask.transpose(1, 2)\n",
        "\n",
        "        sum_logits = torch.sum(mask * logits_tensor, dim=0)\n",
        "        divider = torch.sum(mask, dim=0)\n",
        "        \n",
        "        output = sum_logits / divider\n",
        "\n",
        "\n",
        "        del labels_tensor\n",
        "        del logits_tensor\n",
        "        del voted_class\n",
        "        del mask\n",
        "        del sum_logits\n",
        "        del divider\n",
        "        models_selected = []\n",
        "        \n",
        "        torch.cuda.empty_cache()\n",
        "\n",
        "        return output"
      ],
      "execution_count": null,
      "outputs": []
    },
    {
      "cell_type": "markdown",
      "metadata": {
        "id": "IffxeALQ_ajk"
      },
      "source": [
        "# To experiment: override PyTorchClassifier.loss_gradient and modify implementation of MyEnsemble"
      ]
    },
    {
      "cell_type": "code",
      "metadata": {
        "id": "0SLhXW_Ews6N"
      },
      "source": [
        "class MyEnsemble(nn.Module):\n",
        "    def __init__(self, model_dict, num_models_selected, noise_std, num_classes=10):\n",
        "        super(MyEnsemble, self).__init__()\n",
        "        self.model_dict = model_dict\n",
        "        self.num_models = len(model_dict)\n",
        "        self.num_models_selected = num_models_selected\n",
        "        self.num_classes = num_classes\n",
        "        self.noise_std = noise_std\n",
        "    \n",
        "\n",
        "    def forward(self, x):\n",
        "        model = model_dict[idx]\n",
        "\n",
        "        noise = torch.randn(x.size()) * noise_std\n",
        "        noise = noise.to(device)\n",
        "        x_noised = x + noise\n",
        "\n",
        "        return model(x_noised)\n",
        "        # indices = [i for i in range(self.num_models)]\n",
        "        # random.shuffle(indices)\n",
        "        # indices = indices[:self.num_models_selected]\n",
        "        # models = [*self.model_dict]\n",
        "        # models_selected = [models[idx] for idx in indices]\n",
        "\n",
        "        # logits_list = []\n",
        "        # labels_list = []\n",
        "\n",
        "        # noise = torch.randn(x.size()) * noise_std\n",
        "        # noise = noise.to(device)\n",
        "        # x_noised = x + noise\n",
        "\n",
        "        # for model_name in models_selected:\n",
        "        #   # model = model.to(device)\n",
        "        #   model = self.model_dict[model_name]\n",
        "        #   logits = model(x_noised)\n",
        "        #   label_out = torch.unsqueeze(torch.argmax(torch.nn.functional.softmax(logits, dim=0), dim=1), dim=0)\n",
        "        #   logits = torch.unsqueeze(logits, dim=0)\n",
        "        #   labels_list.append(label_out)\n",
        "        #   logits_list.append(logits)\n",
        "        #   # model = model.to('cpu')\n",
        "        \n",
        "        # # majority vote\n",
        "        # labels_tensor = torch.cat(labels_list, dim=0)\n",
        "        # logits_tensor = torch.cat(logits_list, dim=0)\n",
        "        \n",
        "        # del noise\n",
        "        # # del logits_list\n",
        "        # del labels_list\n",
        "\n",
        "        # voted_class = torch.max(labels_tensor, dim=0) # possibly ties\n",
        "        # mask = (labels_tensor == voted_class.values).int()\n",
        "        # mask = mask.unsqueeze(dim=1).repeat(1, num_classes, 1)\n",
        "        # mask = mask.transpose(1, 2)\n",
        "\n",
        "        # sum_logits = torch.sum(mask * logits_tensor, dim=0)\n",
        "        # divider = torch.sum(mask, dim=0)\n",
        "        \n",
        "        # output = sum_logits / divider\n",
        "\n",
        "\n",
        "        # del labels_tensor\n",
        "        # # del logits_tensor\n",
        "        # del voted_class\n",
        "        # del mask\n",
        "        # del sum_logits\n",
        "        # del divider\n",
        "        # models_selected = []\n",
        "        \n",
        "        # torch.cuda.empty_cache()\n",
        "\n",
        "        # return np.array(logits_list, output, output)\n",
        "\n",
        "    # def forward(self, x):\n",
        "    #     indices = [i for i in range(self.num_models)]\n",
        "    #     random.shuffle(indices)\n",
        "    #     indices = indices[:self.num_models_selected]\n",
        "    #     models = [*self.model_dict]\n",
        "    #     models_selected = [models[idx] for idx in indices]\n",
        "\n",
        "    #     logits_list = []\n",
        "    #     labels_list = []\n",
        "\n",
        "    #     noise = torch.randn(x.size()) * noise_std\n",
        "    #     noise = noise.to(device)\n",
        "    #     x_noised = x + noise\n",
        "\n",
        "    #     for model_name in models_selected:\n",
        "    #       # model = model.to(device)\n",
        "    #       model = self.model_dict[model_name]\n",
        "    #       logits = model(x_noised)\n",
        "    #       label_out = torch.unsqueeze(torch.argmax(torch.nn.functional.softmax(logits, dim=0), dim=1), dim=0)\n",
        "    #       logits = torch.unsqueeze(logits, dim=0)\n",
        "    #       labels_list.append(label_out)\n",
        "    #       logits_list.append(logits)\n",
        "    #       # model = model.to('cpu')\n",
        "        \n",
        "    #     # majority vote\n",
        "    #     labels_tensor = torch.cat(labels_list, dim=0)\n",
        "    #     logits_tensor = torch.cat(logits_list, dim=0)\n",
        "        \n",
        "    #     del noise\n",
        "    #     # del logits_list\n",
        "    #     del labels_list\n",
        "\n",
        "    #     voted_class = torch.max(labels_tensor, dim=0) # possibly ties\n",
        "    #     mask = (labels_tensor == voted_class.values).int()\n",
        "    #     mask = mask.unsqueeze(dim=1).repeat(1, num_classes, 1)\n",
        "    #     mask = mask.transpose(1, 2)\n",
        "\n",
        "    #     sum_logits = torch.sum(mask * logits_tensor, dim=0)\n",
        "    #     divider = torch.sum(mask, dim=0)\n",
        "        \n",
        "    #     output = sum_logits / divider\n",
        "\n",
        "\n",
        "    #     del labels_tensor\n",
        "    #     # del logits_tensor\n",
        "    #     del voted_class\n",
        "    #     del mask\n",
        "    #     del sum_logits\n",
        "    #     del divider\n",
        "    #     models_selected = []\n",
        "        \n",
        "    #     torch.cuda.empty_cache()\n",
        "\n",
        "    #     return np.array(logits_list, output, output)\n",
        "    \n",
        "\n",
        "    # def get_logits(self, x):\n",
        "    #     # generate random indices\n",
        "    #     indices = [i for i in range(self.num_models)]\n",
        "    #     random.shuffle(indices)\n",
        "    #     indices = indices[:self.num_models_selected]\n",
        "    #     models_selected = [self.model_list[idx] for idx in indices]\n",
        "\n",
        "    #     noise = torch.randn(x.size()) * noise_std\n",
        "    #     noise = noise.to(device)\n",
        "    #     x_noised = x + noise\n",
        "\n",
        "    #     logits_list = []\n",
        "        \n",
        "    #     for model in models_selected:\n",
        "    #         model = model.to(device)\n",
        "    #         logits = model(x_noised)\n",
        "    #         logits_list.append(logits)\n",
        "    #         model = model.to('cpu')\n",
        "        \n",
        "    #     return logits_list\n",
        "\n",
        "    \n",
        "    def predict(self, x):\n",
        "        raise NotImplemented(\"predict\")\n",
        "\n",
        "\n",
        "class MyPyTorchClassifier(PyTorchClassifier):\n",
        "    def loss_gradient(self, x: np.ndarray, y: np.ndarray, **kwargs) -> np.ndarray:\n",
        "        \"\"\"\n",
        "        Compute the gradient of the loss function w.r.t. `x`.\n",
        "        :param x: Sample input with shape as expected by the model.\n",
        "        :param y: Target values (class labels) one-hot-encoded of shape `(nb_samples, nb_classes)` or indices of shape\n",
        "                  `(nb_samples,)`.\n",
        "        :return: Array of gradients of the same shape as `x`.\n",
        "        \"\"\"\n",
        "        import torch  # lgtm [py/repeated-import]\n",
        "\n",
        "        # Apply preprocessing\n",
        "        x_preprocessed, y_preprocessed = self._apply_preprocessing(x, y, fit=False)\n",
        "\n",
        "        # Check label shape\n",
        "        y_preprocessed = self.reduce_labels(y_preprocessed)\n",
        "\n",
        "        # Convert the inputs to Tensors\n",
        "        inputs_t = torch.from_numpy(x_preprocessed).to(self._device)\n",
        "        inputs_t.requires_grad = True\n",
        "\n",
        "        # Convert the labels to Tensors\n",
        "        labels_t = torch.from_numpy(y_preprocessed).to(self._device)\n",
        "\n",
        "        #######################################\n",
        "        # Compute the gradient and return\n",
        "\n",
        "        indices = [i for i in range(4)]\n",
        "        random.shuffle(indices)\n",
        "        indices = indices[:2]\n",
        "        models = [*model_dict]\n",
        "        models_selected = [models[idx] for idx in indices]\n",
        "        \n",
        "        loss = torch.Tensor([0.0])\n",
        "        loss = loss.to(device)\n",
        "\n",
        "        for idx in models_selected:\n",
        "          inputs_t_idx = torch.cat(inputs_t,)\n",
        "          logits = self._model(inputs_t)\n",
        "          loss += self._loss(logits, labels_t)\n",
        "\n",
        "\n",
        "        # logits_list = self._model(inputs_t)\n",
        "\n",
        "        \n",
        "\n",
        "        # for logits in logits_list:\n",
        "        #   loss += self._loss(logits, labels_t)\n",
        "          \n",
        "        #   # Clean gradients\n",
        "        #   self._model.zero_grad()\n",
        "\n",
        "        # Compute gradients\n",
        "        loss.backward()\n",
        "        grads = inputs_t.grad.cpu().numpy().copy()  # type: ignore\n",
        "        grads = self._apply_preprocessing_gradient(x, grads)\n",
        "        assert grads.shape == x.shape\n",
        "\n",
        "        return grads\n",
        "\n",
        "      \n",
        "    def loss_gradient_framework(self, x: np.ndarray, y: np.ndarray, **kwargs) -> np.ndarray:\n",
        "        \"\"\"\n",
        "        Compute the gradient of the loss function w.r.t. `x`.\n",
        "        :param x: Sample input with shape as expected by the model.\n",
        "        :param y: Target values (class labels) one-hot-encoded of shape `(nb_samples, nb_classes)` or indices of shape\n",
        "                  `(nb_samples,)`.\n",
        "        :return: Array of gradients of the same shape as `x`.\n",
        "        \"\"\"\n",
        "        import torch  # lgtm [py/repeated-import]\n",
        "\n",
        "        # Apply preprocessing\n",
        "        x_preprocessed, y_preprocessed = self._apply_preprocessing(x, y, fit=False)\n",
        "\n",
        "        # Check label shape\n",
        "        y_preprocessed = self.reduce_labels(y_preprocessed)\n",
        "\n",
        "        # Convert the inputs to Tensors\n",
        "        inputs_t = torch.from_numpy(x_preprocessed).to(self._device)\n",
        "        inputs_t.requires_grad = True\n",
        "\n",
        "        # Convert the labels to Tensors\n",
        "        labels_t = torch.from_numpy(y_preprocessed).to(self._device)\n",
        "\n",
        "        #######################################\n",
        "        # Compute the gradient and return\n",
        "        logits_list = self._model.get_logits(inputs_t)\n",
        "\n",
        "        # loss = torch.Tensor(0.0)\n",
        "        # loss = loss.to(device)\n",
        "\n",
        "        loss = self._loss(logits[0], labels_t)\n",
        "\n",
        "        for i in range(1, len(logits_list)):\n",
        "          loss += self._loss(logits_list[i], labels_t)\n",
        "          \n",
        "          # Clean gradients\n",
        "          self._model.zero_grad()\n",
        "\n",
        "        # Compute gradients\n",
        "        loss.backward()\n",
        "        grads = inputs_t.grad.cpu().numpy().copy()  # type: ignore\n",
        "        grads = self._apply_preprocessing_gradient(x, grads)\n",
        "        assert grads.shape == x.shape\n",
        "\n",
        "        return grads"
      ],
      "execution_count": null,
      "outputs": []
    },
    {
      "cell_type": "markdown",
      "metadata": {
        "id": "inhJeBV-9ic0"
      },
      "source": [
        "# Ensemble Implementation 2: Loading models from disk during forward"
      ]
    },
    {
      "cell_type": "code",
      "metadata": {
        "id": "vvzY2DaB8uO8"
      },
      "source": [
        "# class MyEnsemble(nn.Module):\n",
        "#     def __init__(self, model_list, num_models_selected, num_classes=10):\n",
        "#         super(MyEnsemble, self).__init__()\n",
        "#         self.model_list = []\n",
        "#         self.num_models = len(model_list)\n",
        "#         self.num_models_selected = num_models_selected\n",
        "#         self.num_classes = num_classes\n",
        "#         for model in model_list:\n",
        "#           self.model_list.append(model)\n",
        "#         # Remove last linear layer\n",
        "#         self.softmax = nn.Softmax()\n",
        "        \n",
        "#     def forward(self, x):\n",
        "#         indices = [i for i in range(self.num_models)]\n",
        "#         random.shuffle(indices)\n",
        "#         indices = indices[:self.num_models_selected]\n",
        "#         model_names_selected = [self.model_list[idx] for idx in indices]\n",
        "        \n",
        "#         models_selected = []\n",
        "        \n",
        "#         for model_name in model_names_selected:\n",
        "#           model = VGG16()\n",
        "#           model_data = torch.load('./{}'.format(model_name))\n",
        "#           model.load_state_dict(model_data['model_state_dict'])\n",
        "#           model.to(device)\n",
        "#           models_selected.append(model)\n",
        "\n",
        "#         logits_list = []\n",
        "#         labels_list = []\n",
        "\n",
        "#         noise = torch.randn(x.size()) * noise_std\n",
        "#         noise = noise.to(device)\n",
        "#         x_noised = x + noise\n",
        "\n",
        "#         for model in models_selected:\n",
        "#           logits = model(x_noised)\n",
        "#           label_out = torch.unsqueeze(torch.argmax(self.softmax(logits), dim=1), dim=0)\n",
        "#           logits = torch.unsqueeze(logits, dim=0)\n",
        "#           labels_list.append(label_out)\n",
        "#           logits_list.append(logits)\n",
        "        \n",
        "#         # majority vote\n",
        "#         labels_tensor = torch.cat(labels_list, dim=0)\n",
        "#         logits_tensor = torch.cat(logits_list, dim=0)\n",
        "#         voted_class = torch.max(labels_tensor, dim=0) # possibly ties\n",
        "#         mask = (labels_tensor == voted_class.values).int()\n",
        "\n",
        "#         mask = mask.unsqueeze(dim=1).repeat(1, num_classes, 1)\n",
        "#         mask = mask.transpose(1, 2)\n",
        "\n",
        "#         sum_logits = torch.sum(mask * logits_tensor, dim=0)\n",
        "#         divider = torch.sum(mask, dim=0)\n",
        "        \n",
        "#         output = sum_logits / divider\n",
        "\n",
        "#         for model in models_selected:\n",
        "#             del model\n",
        "#         del models_selected\n",
        "#         del labels_list\n",
        "#         del logits_list\n",
        "#         del labels_tensor\n",
        "#         del logits_tensor\n",
        "#         del voted_class\n",
        "#         del mask\n",
        "#         del sum_logits\n",
        "#         del divider\n",
        "\n",
        "#         return output\n",
        "\n",
        "#         # max_logits = torch.max(mask * logits_tensor, dim=0)\n",
        "#         # return max_logits.values"
      ],
      "execution_count": null,
      "outputs": []
    },
    {
      "cell_type": "code",
      "metadata": {
        "id": "uB4hQclLI4XL"
      },
      "source": [
        "from art.estimators.classification import EnsembleClassifier\n",
        "from typing import List, Optional, Union, TYPE_CHECKING\n",
        "from art.estimators.classification.classifier import ClassifierNeuralNetwork\n",
        "from scipy.special import softmax"
      ],
      "execution_count": 15,
      "outputs": []
    },
    {
      "cell_type": "code",
      "metadata": {
        "id": "ratuA8nTIKyu"
      },
      "source": [
        "class MyEnsembleClassifier(EnsembleClassifier):\n",
        "    def __init__(\n",
        "        self,\n",
        "        classifiers: List[ClassifierNeuralNetwork],\n",
        "        device,\n",
        "        classifier_weights: Union[list, np.ndarray, None] = None,\n",
        "        channels_first: bool = False,\n",
        "        clip_values: Optional[\"CLIP_VALUES_TYPE\"] = None,\n",
        "        preprocessing_defences: Union[\"Preprocessor\", List[\"Preprocessor\"], None] = None,\n",
        "        postprocessing_defences: Union[\"Postprocessor\", List[\"Postprocessor\"], None] = None,\n",
        "        preprocessing: \"PREPROCESSING_TYPE\" = (0, 1),\n",
        "    ) -> None:\n",
        "      super().__init__(\n",
        "          classifiers=classifiers,\n",
        "          classifier_weights=classifier_weights,\n",
        "          channels_first=channels_first,\n",
        "          clip_values=clip_values,\n",
        "          preprocessing_defences=preprocessing_defences,\n",
        "          postprocessing_defences=postprocessing_defences,\n",
        "          preprocessing=preprocessing\n",
        "      )\n",
        "      self.device = device\n",
        "\n",
        "    def predict(self, x: np.ndarray, batch_size: int = 128, raw: bool = False, **kwargs) -> np.ndarray:\n",
        "        \"\"\"\n",
        "        Perform prediction for a batch of inputs. Predictions from classifiers should only be aggregated if they all\n",
        "        have the same type of output (e.g., probabilities). Otherwise, use `raw=True` to get predictions from all\n",
        "        models without aggregation. The same option should be used for logits output, as logits are not comparable\n",
        "        between models and should not be aggregated.\n",
        "        :param x: Test set.\n",
        "        :param batch_size: Size of batches.\n",
        "        :param raw: Return the individual classifier raw outputs (not aggregated).\n",
        "        :return: Array of predictions of shape `(nb_inputs, nb_classes)`, or of shape\n",
        "                 `(nb_classifiers, nb_inputs, nb_classes)` if `raw=True`.\n",
        "        \"\"\"\n",
        "        indices = [i for i in range(num_models)]\n",
        "        random.shuffle(indices)\n",
        "        indices = indices[:num_models_selected]\n",
        "\n",
        "        x_noised = np.float32(x + np.random.randn(*x.shape) * 0.1)\n",
        "\n",
        "        preds = np.array(\n",
        "            [softmax(self._classifiers[i].predict(x_noised), axis=1) for i in indices]\n",
        "        )\n",
        "        if raw:\n",
        "            return preds\n",
        "\n",
        "        # 6 x 100\n",
        "        preds_classes = np.argmax(preds, axis=2)\n",
        "        row, col = preds_classes.shape\n",
        "        # 100,\n",
        "        majority_vote = np.array(\n",
        "            [\n",
        "             np.bincount(preds_classes[:,c]).argmax()\n",
        "             for c in range(col)\n",
        "            ]\n",
        "        )\n",
        "\n",
        "        mask = preds_classes == majority_vote\n",
        "        mask = np.repeat(np.expand_dims(mask, axis=2), repeats=num_classes, axis=2)\n",
        "        # print(preds_classes)\n",
        "        # print(majority_vote)\n",
        "        # print(mask)\n",
        "\n",
        "\n",
        "        var_z = np.sum(mask * preds, axis=0)\n",
        "        # divider = torch.sum(mask, dim=0)\n",
        "        # output = sum_logits / divider\n",
        "        # print(res.shape)\n",
        "\n",
        "\n",
        "        # res = []\n",
        "        # for c in range(col):\n",
        "        #   res.append(np.bincount(preds_classes[:,c]).argmax())\n",
        "\n",
        "        # print(\"preds shape: {}\".format(preds.shape))\n",
        "\n",
        "        # Aggregate predictions only at probabilities level, as logits are not comparable between models\n",
        "        # var_z = np.sum(preds, axis=0)\n",
        "\n",
        "        # Apply postprocessing\n",
        "        predictions = self._apply_postprocessing(preds=var_z, fit=False)\n",
        "\n",
        "        # print(np.argmax(predictions, axis=1))\n",
        "\n",
        "        return predictions\n",
        "\n",
        "        # preds = np.array(\n",
        "        #     [np.argmax(self._classifiers[i].predict(x), axis=1) for i in indices]\n",
        "        # )\n",
        "\n",
        "        # row, col = preds.shape\n",
        "\n",
        "        # res = []\n",
        "\n",
        "        # for c in range(col):\n",
        "        #   res.append(np.bincount(preds[:,c]).argmax())\n",
        "\n",
        "        # print(res)\n",
        "\n",
        "        # return np.array(res).reshape(len(res), 1)\n",
        "\n",
        "\n",
        "    def loss_gradient(self, x: np.ndarray, y: np.ndarray, raw: bool = False, **kwargs) -> np.ndarray:\n",
        "        \"\"\"\n",
        "        Compute the gradient of the loss function w.r.t. `x`.\n",
        "        :param x: Sample input with shape as expected by the model.\n",
        "        :param y: Target values (class labels) one-hot-encoded of shape (nb_samples, nb_classes) or indices of shape\n",
        "                  (nb_samples,).\n",
        "        :param raw: Return the individual classifier raw outputs (not aggregated).\n",
        "        :return: Array of gradients of the same shape as `x`. If `raw=True`, shape becomes `[nb_classifiers, x.shape]`.\n",
        "        \"\"\"\n",
        "\n",
        "        indices = [i for i in range(num_models)]\n",
        "        random.shuffle(indices)\n",
        "        indices = indices[:num_models_selected]\n",
        "        \n",
        "        x_noised = np.float32(x + np.random.randn(*x.shape) * 0.1)\n",
        "\n",
        "        grads = np.array(\n",
        "            [\n",
        "                self._classifiers[i].loss_gradient(x_noised, y)\n",
        "                for i in indices\n",
        "            ]\n",
        "        )\n",
        "        if raw:\n",
        "            return grads\n",
        "\n",
        "        return np.sum(grads, axis=0)\n",
        "\n",
        "    def loss_gradient_framework(self, x: \"torch.Tensor\", y: \"torch.Tensor\", **kwargs) -> \"torch.Tensor\":\n",
        "        \"\"\"\n",
        "        Compute the gradient of the loss function w.r.t. `x`.\n",
        "        :param x: Sample input with shape as expected by the model.\n",
        "        :param y: Target values (class labels) one-hot-encoded of shape (nb_samples, nb_classes) or indices of shape\n",
        "                  (nb_samples,).\n",
        "        :param raw: Return the individual classifier raw outputs (not aggregated).\n",
        "        :return: Array of gradients of the same shape as `x`. If `raw=True`, shape becomes `[nb_classifiers, x.shape]`.\n",
        "        \"\"\"\n",
        "\n",
        "        # print(\"X shape: {}\".format(x.shape))\n",
        "\n",
        "\n",
        "        indices = [i for i in range(num_models)]\n",
        "        random.shuffle(indices)\n",
        "        indices = indices[:num_models_selected]\n",
        "        \n",
        "        noise = torch.randn(x.size()) * 0.1\n",
        "        noise = noise.to(device)\n",
        "        x_noised = x + noise\n",
        "\n",
        "        # print(\"X_noised shape: {}\".format(x_noised.shape))\n",
        "\n",
        "\n",
        "        grads = [\n",
        "                  self._classifiers[i].loss_gradient_framework(x_noised, y).unsqueeze(0)\n",
        "                  for i in indices\n",
        "                ]\n",
        "        \n",
        "        # print(grads[0].shape)\n",
        "\n",
        "        return torch.sum(torch.cat(grads, axis=0), axis=0)"
      ],
      "execution_count": 51,
      "outputs": []
    },
    {
      "cell_type": "code",
      "metadata": {
        "id": "9Z0e7i6HJi7i",
        "colab": {
          "base_uri": "https://localhost:8080/"
        },
        "outputId": "364ade57-ce6f-42b3-f023-9549c064c5bf"
      },
      "source": [
        "criterion = nn.CrossEntropyLoss()\n",
        "classifier_list = []\n",
        "for model_name in model_dict:\n",
        "  classifier_list.append(PyTorchClassifier(\n",
        "    model=model_dict[model_name],\n",
        "    clip_values=(0, 1),\n",
        "    loss=criterion,\n",
        "    input_shape=(3, 224, 224),\n",
        "    nb_classes=10,\n",
        "))"
      ],
      "execution_count": 52,
      "outputs": [
        {
          "output_type": "stream",
          "text": [
            "2020-11-19 23:51:59,595 INFO Inferred 1 hidden layers on PyTorch classifier.\n",
            "2020-11-19 23:51:59,605 INFO Inferred 1 hidden layers on PyTorch classifier.\n",
            "2020-11-19 23:51:59,613 INFO Inferred 1 hidden layers on PyTorch classifier.\n",
            "2020-11-19 23:51:59,621 INFO Inferred 1 hidden layers on PyTorch classifier.\n",
            "2020-11-19 23:51:59,629 INFO Inferred 1 hidden layers on PyTorch classifier.\n",
            "2020-11-19 23:51:59,637 INFO Inferred 1 hidden layers on PyTorch classifier.\n",
            "2020-11-19 23:51:59,646 INFO Inferred 1 hidden layers on PyTorch classifier.\n",
            "2020-11-19 23:51:59,654 INFO Inferred 1 hidden layers on PyTorch classifier.\n",
            "2020-11-19 23:51:59,662 INFO Inferred 1 hidden layers on PyTorch classifier.\n",
            "2020-11-19 23:51:59,670 INFO Inferred 1 hidden layers on PyTorch classifier.\n",
            "2020-11-19 23:51:59,678 INFO Inferred 1 hidden layers on PyTorch classifier.\n",
            "2020-11-19 23:51:59,687 INFO Inferred 1 hidden layers on PyTorch classifier.\n",
            "2020-11-19 23:51:59,695 INFO Inferred 1 hidden layers on PyTorch classifier.\n",
            "2020-11-19 23:51:59,702 INFO Inferred 1 hidden layers on PyTorch classifier.\n",
            "2020-11-19 23:51:59,710 INFO Inferred 1 hidden layers on PyTorch classifier.\n",
            "2020-11-19 23:51:59,718 INFO Inferred 1 hidden layers on PyTorch classifier.\n",
            "2020-11-19 23:51:59,725 INFO Inferred 1 hidden layers on PyTorch classifier.\n",
            "2020-11-19 23:51:59,733 INFO Inferred 1 hidden layers on PyTorch classifier.\n",
            "2020-11-19 23:51:59,741 INFO Inferred 1 hidden layers on PyTorch classifier.\n",
            "2020-11-19 23:51:59,750 INFO Inferred 1 hidden layers on PyTorch classifier.\n",
            "2020-11-19 23:51:59,759 INFO Inferred 1 hidden layers on PyTorch classifier.\n",
            "2020-11-19 23:51:59,767 INFO Inferred 1 hidden layers on PyTorch classifier.\n",
            "2020-11-19 23:51:59,775 INFO Inferred 1 hidden layers on PyTorch classifier.\n",
            "2020-11-19 23:51:59,784 INFO Inferred 1 hidden layers on PyTorch classifier.\n",
            "2020-11-19 23:51:59,792 INFO Inferred 1 hidden layers on PyTorch classifier.\n",
            "2020-11-19 23:51:59,801 INFO Inferred 1 hidden layers on PyTorch classifier.\n",
            "2020-11-19 23:51:59,811 INFO Inferred 1 hidden layers on PyTorch classifier.\n",
            "2020-11-19 23:51:59,821 INFO Inferred 1 hidden layers on PyTorch classifier.\n",
            "2020-11-19 23:51:59,830 INFO Inferred 1 hidden layers on PyTorch classifier.\n",
            "2020-11-19 23:51:59,839 INFO Inferred 1 hidden layers on PyTorch classifier.\n"
          ],
          "name": "stderr"
        }
      ]
    },
    {
      "cell_type": "markdown",
      "metadata": {
        "id": "gP_Gxq-2jc-9"
      },
      "source": [
        "# FGM Attack"
      ]
    },
    {
      "cell_type": "code",
      "metadata": {
        "id": "FI-CktAFJ0Q_"
      },
      "source": [
        "my_ensemble_classifier = MyEnsembleClassifier(classifier_list, device, clip_values=[0., 1.], channels_first=True)"
      ],
      "execution_count": 53,
      "outputs": []
    },
    {
      "cell_type": "code",
      "metadata": {
        "id": "LTKx18RFcX7D"
      },
      "source": [
        "from art.utils import compute_accuracy"
      ],
      "execution_count": 46,
      "outputs": []
    },
    {
      "cell_type": "code",
      "metadata": {
        "id": "PmXkglUUKXO3",
        "outputId": "5959583d-e1d6-41ca-f00d-e4a85c543b2b",
        "colab": {
          "base_uri": "https://localhost:8080/",
          "height": 421
        }
      },
      "source": [
        "attack = FastGradientMethod(estimator=my_ensemble_classifier, eps=0.5, targeted=False, norm=2)\n",
        "Acc = []\n",
        "for batch_idx, (X, Y) in enumerate(testloader):\n",
        "    x_test = X.numpy()\n",
        "    y_test = Y.numpy()\n",
        "    # target = (y_test + 1) % 10\n",
        "    x_test_adv = attack.generate(torch.from_numpy(x_test), torch.from_numpy(y_test))\n",
        "    predictions = my_ensemble_classifier.predict(x_test_adv)\n",
        "    predictions_test = my_ensemble_classifier.predict(x_test)\n",
        "    accuracy = np.sum(np.argmax(predictions, axis=1) == y_test) / len(y_test)\n",
        "    acc_test = np.sum(np.argmax(predictions_test, axis=1) == y_test) / len(y_test)\n",
        "    # print(y_test.shape)\n",
        "    # acc_rate, coverage_rate = compute_accuracy(preds=predictions, labels=np.reshape(y_test, (test_batchsize, 1)))\n",
        "    # logging.info('acc rate: {}, coverage rate: {}'.format(acc_rate, coverage_rate))\n",
        "    Acc.append(accuracy)\n",
        "    logging.info('accuracy: {}'.format(accuracy))\n",
        "    logging.info('accuracy non adv: {}'.format(acc_test))"
      ],
      "execution_count": 35,
      "outputs": [
        {
          "output_type": "stream",
          "text": [
            "2020-11-19 23:10:30,007 INFO Success rate of FGM attack: 4.00%\n",
            "2020-11-19 23:10:34,243 INFO accuracy: 0.89\n",
            "2020-11-19 23:10:34,245 INFO accuracy non adv: 0.93\n"
          ],
          "name": "stderr"
        },
        {
          "output_type": "error",
          "ename": "KeyboardInterrupt",
          "evalue": "ignored",
          "traceback": [
            "\u001b[0;31m---------------------------------------------------------------------------\u001b[0m",
            "\u001b[0;31mKeyboardInterrupt\u001b[0m                         Traceback (most recent call last)",
            "\u001b[0;32m<ipython-input-35-5966464c4fe7>\u001b[0m in \u001b[0;36m<module>\u001b[0;34m()\u001b[0m\n\u001b[1;32m      5\u001b[0m     \u001b[0my_test\u001b[0m \u001b[0;34m=\u001b[0m \u001b[0mY\u001b[0m\u001b[0;34m.\u001b[0m\u001b[0mnumpy\u001b[0m\u001b[0;34m(\u001b[0m\u001b[0;34m)\u001b[0m\u001b[0;34m\u001b[0m\u001b[0;34m\u001b[0m\u001b[0m\n\u001b[1;32m      6\u001b[0m     \u001b[0;31m# target = (y_test + 1) % 10\u001b[0m\u001b[0;34m\u001b[0m\u001b[0;34m\u001b[0m\u001b[0;34m\u001b[0m\u001b[0m\n\u001b[0;32m----> 7\u001b[0;31m     \u001b[0mx_test_adv\u001b[0m \u001b[0;34m=\u001b[0m \u001b[0mattack\u001b[0m\u001b[0;34m.\u001b[0m\u001b[0mgenerate\u001b[0m\u001b[0;34m(\u001b[0m\u001b[0mtorch\u001b[0m\u001b[0;34m.\u001b[0m\u001b[0mfrom_numpy\u001b[0m\u001b[0;34m(\u001b[0m\u001b[0mx_test\u001b[0m\u001b[0;34m)\u001b[0m\u001b[0;34m,\u001b[0m \u001b[0mtorch\u001b[0m\u001b[0;34m.\u001b[0m\u001b[0mfrom_numpy\u001b[0m\u001b[0;34m(\u001b[0m\u001b[0my_test\u001b[0m\u001b[0;34m)\u001b[0m\u001b[0;34m)\u001b[0m\u001b[0;34m\u001b[0m\u001b[0;34m\u001b[0m\u001b[0m\n\u001b[0m\u001b[1;32m      8\u001b[0m     \u001b[0mpredictions\u001b[0m \u001b[0;34m=\u001b[0m \u001b[0mmy_ensemble_classifier\u001b[0m\u001b[0;34m.\u001b[0m\u001b[0mpredict\u001b[0m\u001b[0;34m(\u001b[0m\u001b[0mx_test_adv\u001b[0m\u001b[0;34m)\u001b[0m\u001b[0;34m\u001b[0m\u001b[0;34m\u001b[0m\u001b[0m\n\u001b[1;32m      9\u001b[0m     \u001b[0mpredictions_test\u001b[0m \u001b[0;34m=\u001b[0m \u001b[0mmy_ensemble_classifier\u001b[0m\u001b[0;34m.\u001b[0m\u001b[0mpredict\u001b[0m\u001b[0;34m(\u001b[0m\u001b[0mx_test\u001b[0m\u001b[0;34m)\u001b[0m\u001b[0;34m\u001b[0m\u001b[0;34m\u001b[0m\u001b[0m\n",
            "\u001b[0;32m/usr/local/lib/python3.6/dist-packages/art/attacks/attack.py\u001b[0m in \u001b[0;36mreplacement_function\u001b[0;34m(self, *args, **kwargs)\u001b[0m\n\u001b[1;32m     72\u001b[0m                 \u001b[0;32mif\u001b[0m \u001b[0mlen\u001b[0m\u001b[0;34m(\u001b[0m\u001b[0margs\u001b[0m\u001b[0;34m)\u001b[0m \u001b[0;34m>\u001b[0m \u001b[0;36m0\u001b[0m\u001b[0;34m:\u001b[0m\u001b[0;34m\u001b[0m\u001b[0;34m\u001b[0m\u001b[0m\n\u001b[1;32m     73\u001b[0m                     \u001b[0margs\u001b[0m \u001b[0;34m=\u001b[0m \u001b[0mtuple\u001b[0m\u001b[0;34m(\u001b[0m\u001b[0mlst\u001b[0m\u001b[0;34m)\u001b[0m\u001b[0;34m\u001b[0m\u001b[0;34m\u001b[0m\u001b[0m\n\u001b[0;32m---> 74\u001b[0;31m                 \u001b[0;32mreturn\u001b[0m \u001b[0mfdict\u001b[0m\u001b[0;34m[\u001b[0m\u001b[0mfunc_name\u001b[0m\u001b[0;34m]\u001b[0m\u001b[0;34m(\u001b[0m\u001b[0mself\u001b[0m\u001b[0;34m,\u001b[0m \u001b[0;34m*\u001b[0m\u001b[0margs\u001b[0m\u001b[0;34m,\u001b[0m \u001b[0;34m**\u001b[0m\u001b[0mkwargs\u001b[0m\u001b[0;34m)\u001b[0m\u001b[0;34m\u001b[0m\u001b[0;34m\u001b[0m\u001b[0m\n\u001b[0m\u001b[1;32m     75\u001b[0m \u001b[0;34m\u001b[0m\u001b[0m\n\u001b[1;32m     76\u001b[0m             \u001b[0mreplacement_function\u001b[0m\u001b[0;34m.\u001b[0m\u001b[0m__doc__\u001b[0m \u001b[0;34m=\u001b[0m \u001b[0mfdict\u001b[0m\u001b[0;34m[\u001b[0m\u001b[0mfunc_name\u001b[0m\u001b[0;34m]\u001b[0m\u001b[0;34m.\u001b[0m\u001b[0m__doc__\u001b[0m\u001b[0;34m\u001b[0m\u001b[0;34m\u001b[0m\u001b[0m\n",
            "\u001b[0;32m/usr/local/lib/python3.6/dist-packages/art/attacks/evasion/fast_gradient.py\u001b[0m in \u001b[0;36mgenerate\u001b[0;34m(self, x, y, **kwargs)\u001b[0m\n\u001b[1;32m    202\u001b[0m \u001b[0;34m\u001b[0m\u001b[0m\n\u001b[1;32m    203\u001b[0m                 \u001b[0;32mfor\u001b[0m \u001b[0m_\u001b[0m \u001b[0;32min\u001b[0m \u001b[0mrange\u001b[0m\u001b[0;34m(\u001b[0m\u001b[0mmax\u001b[0m\u001b[0;34m(\u001b[0m\u001b[0;36m1\u001b[0m\u001b[0;34m,\u001b[0m \u001b[0mself\u001b[0m\u001b[0;34m.\u001b[0m\u001b[0mnum_random_init\u001b[0m\u001b[0;34m)\u001b[0m\u001b[0;34m)\u001b[0m\u001b[0;34m:\u001b[0m\u001b[0;34m\u001b[0m\u001b[0;34m\u001b[0m\u001b[0m\n\u001b[0;32m--> 204\u001b[0;31m                     \u001b[0madv_x\u001b[0m \u001b[0;34m=\u001b[0m \u001b[0mself\u001b[0m\u001b[0;34m.\u001b[0m\u001b[0m_compute\u001b[0m\u001b[0;34m(\u001b[0m\u001b[0mx\u001b[0m\u001b[0;34m,\u001b[0m \u001b[0mx\u001b[0m\u001b[0;34m,\u001b[0m \u001b[0my\u001b[0m\u001b[0;34m,\u001b[0m \u001b[0mmask\u001b[0m\u001b[0;34m,\u001b[0m \u001b[0mself\u001b[0m\u001b[0;34m.\u001b[0m\u001b[0meps\u001b[0m\u001b[0;34m,\u001b[0m \u001b[0mself\u001b[0m\u001b[0;34m.\u001b[0m\u001b[0meps\u001b[0m\u001b[0;34m,\u001b[0m \u001b[0mself\u001b[0m\u001b[0;34m.\u001b[0m\u001b[0m_project\u001b[0m\u001b[0;34m,\u001b[0m \u001b[0mself\u001b[0m\u001b[0;34m.\u001b[0m\u001b[0mnum_random_init\u001b[0m \u001b[0;34m>\u001b[0m \u001b[0;36m0\u001b[0m\u001b[0;34m,\u001b[0m\u001b[0;34m)\u001b[0m\u001b[0;34m\u001b[0m\u001b[0;34m\u001b[0m\u001b[0m\n\u001b[0m\u001b[1;32m    205\u001b[0m \u001b[0;34m\u001b[0m\u001b[0m\n\u001b[1;32m    206\u001b[0m                     \u001b[0;32mif\u001b[0m \u001b[0mself\u001b[0m\u001b[0;34m.\u001b[0m\u001b[0mnum_random_init\u001b[0m \u001b[0;34m>\u001b[0m \u001b[0;36m1\u001b[0m\u001b[0;34m:\u001b[0m\u001b[0;34m\u001b[0m\u001b[0;34m\u001b[0m\u001b[0m\n",
            "\u001b[0;32m/usr/local/lib/python3.6/dist-packages/art/attacks/evasion/fast_gradient.py\u001b[0m in \u001b[0;36m_compute\u001b[0;34m(self, x, x_init, y, mask, eps, eps_step, project, random_init)\u001b[0m\n\u001b[1;32m    366\u001b[0m \u001b[0;34m\u001b[0m\u001b[0m\n\u001b[1;32m    367\u001b[0m             \u001b[0;31m# Get perturbation\u001b[0m\u001b[0;34m\u001b[0m\u001b[0;34m\u001b[0m\u001b[0;34m\u001b[0m\u001b[0m\n\u001b[0;32m--> 368\u001b[0;31m             \u001b[0mperturbation\u001b[0m \u001b[0;34m=\u001b[0m \u001b[0mself\u001b[0m\u001b[0;34m.\u001b[0m\u001b[0m_compute_perturbation\u001b[0m\u001b[0;34m(\u001b[0m\u001b[0mbatch\u001b[0m\u001b[0;34m,\u001b[0m \u001b[0mbatch_labels\u001b[0m\u001b[0;34m,\u001b[0m \u001b[0mmask_batch\u001b[0m\u001b[0;34m)\u001b[0m\u001b[0;34m\u001b[0m\u001b[0;34m\u001b[0m\u001b[0m\n\u001b[0m\u001b[1;32m    369\u001b[0m \u001b[0;34m\u001b[0m\u001b[0m\n\u001b[1;32m    370\u001b[0m             \u001b[0;31m# Apply perturbation and clip\u001b[0m\u001b[0;34m\u001b[0m\u001b[0;34m\u001b[0m\u001b[0;34m\u001b[0m\u001b[0m\n",
            "\u001b[0;32m/usr/local/lib/python3.6/dist-packages/art/attacks/evasion/fast_gradient.py\u001b[0m in \u001b[0;36m_compute_perturbation\u001b[0;34m(self, batch, batch_labels, mask)\u001b[0m\n\u001b[1;32m    280\u001b[0m \u001b[0;34m\u001b[0m\u001b[0m\n\u001b[1;32m    281\u001b[0m         \u001b[0;31m# Get gradient wrt loss; invert it if attack is targeted\u001b[0m\u001b[0;34m\u001b[0m\u001b[0;34m\u001b[0m\u001b[0;34m\u001b[0m\u001b[0m\n\u001b[0;32m--> 282\u001b[0;31m         \u001b[0mgrad\u001b[0m \u001b[0;34m=\u001b[0m \u001b[0mself\u001b[0m\u001b[0;34m.\u001b[0m\u001b[0mestimator\u001b[0m\u001b[0;34m.\u001b[0m\u001b[0mloss_gradient\u001b[0m\u001b[0;34m(\u001b[0m\u001b[0mbatch\u001b[0m\u001b[0;34m,\u001b[0m \u001b[0mbatch_labels\u001b[0m\u001b[0;34m)\u001b[0m \u001b[0;34m*\u001b[0m \u001b[0;34m(\u001b[0m\u001b[0;36m1\u001b[0m \u001b[0;34m-\u001b[0m \u001b[0;36m2\u001b[0m \u001b[0;34m*\u001b[0m \u001b[0mint\u001b[0m\u001b[0;34m(\u001b[0m\u001b[0mself\u001b[0m\u001b[0;34m.\u001b[0m\u001b[0mtargeted\u001b[0m\u001b[0;34m)\u001b[0m\u001b[0;34m)\u001b[0m\u001b[0;34m\u001b[0m\u001b[0;34m\u001b[0m\u001b[0m\n\u001b[0m\u001b[1;32m    283\u001b[0m \u001b[0;34m\u001b[0m\u001b[0m\n\u001b[1;32m    284\u001b[0m         \u001b[0;31m# Apply norm bound\u001b[0m\u001b[0;34m\u001b[0m\u001b[0;34m\u001b[0m\u001b[0;34m\u001b[0m\u001b[0m\n",
            "\u001b[0;32m/usr/local/lib/python3.6/dist-packages/art/estimators/classification/classifier.py\u001b[0m in \u001b[0;36mreplacement_function\u001b[0;34m(self, *args, **kwargs)\u001b[0m\n\u001b[1;32m     69\u001b[0m                 \u001b[0;32mif\u001b[0m \u001b[0mlen\u001b[0m\u001b[0;34m(\u001b[0m\u001b[0margs\u001b[0m\u001b[0;34m)\u001b[0m \u001b[0;34m>\u001b[0m \u001b[0;36m0\u001b[0m\u001b[0;34m:\u001b[0m\u001b[0;34m\u001b[0m\u001b[0;34m\u001b[0m\u001b[0m\n\u001b[1;32m     70\u001b[0m                     \u001b[0margs\u001b[0m \u001b[0;34m=\u001b[0m \u001b[0mtuple\u001b[0m\u001b[0;34m(\u001b[0m\u001b[0mlst\u001b[0m\u001b[0;34m)\u001b[0m\u001b[0;34m\u001b[0m\u001b[0;34m\u001b[0m\u001b[0m\n\u001b[0;32m---> 71\u001b[0;31m                 \u001b[0;32mreturn\u001b[0m \u001b[0mfdict\u001b[0m\u001b[0;34m[\u001b[0m\u001b[0mfunc_name\u001b[0m\u001b[0;34m]\u001b[0m\u001b[0;34m(\u001b[0m\u001b[0mself\u001b[0m\u001b[0;34m,\u001b[0m \u001b[0;34m*\u001b[0m\u001b[0margs\u001b[0m\u001b[0;34m,\u001b[0m \u001b[0;34m**\u001b[0m\u001b[0mkwargs\u001b[0m\u001b[0;34m)\u001b[0m\u001b[0;34m\u001b[0m\u001b[0;34m\u001b[0m\u001b[0m\n\u001b[0m\u001b[1;32m     72\u001b[0m \u001b[0;34m\u001b[0m\u001b[0m\n\u001b[1;32m     73\u001b[0m             \u001b[0mreplacement_function\u001b[0m\u001b[0;34m.\u001b[0m\u001b[0m__doc__\u001b[0m \u001b[0;34m=\u001b[0m \u001b[0mfdict\u001b[0m\u001b[0;34m[\u001b[0m\u001b[0mfunc_name\u001b[0m\u001b[0;34m]\u001b[0m\u001b[0;34m.\u001b[0m\u001b[0m__doc__\u001b[0m\u001b[0;34m\u001b[0m\u001b[0;34m\u001b[0m\u001b[0m\n",
            "\u001b[0;32m<ipython-input-26-3da7040bf2f7>\u001b[0m in \u001b[0;36mloss_gradient\u001b[0;34m(self, x, y, raw, **kwargs)\u001b[0m\n\u001b[1;32m    121\u001b[0m             [\n\u001b[1;32m    122\u001b[0m                 \u001b[0mself\u001b[0m\u001b[0;34m.\u001b[0m\u001b[0m_classifiers\u001b[0m\u001b[0;34m[\u001b[0m\u001b[0mi\u001b[0m\u001b[0;34m]\u001b[0m\u001b[0;34m.\u001b[0m\u001b[0mloss_gradient\u001b[0m\u001b[0;34m(\u001b[0m\u001b[0mx_noised\u001b[0m\u001b[0;34m,\u001b[0m \u001b[0my\u001b[0m\u001b[0;34m)\u001b[0m\u001b[0;34m\u001b[0m\u001b[0;34m\u001b[0m\u001b[0m\n\u001b[0;32m--> 123\u001b[0;31m                 \u001b[0;32mfor\u001b[0m \u001b[0mi\u001b[0m \u001b[0;32min\u001b[0m \u001b[0mindices\u001b[0m\u001b[0;34m\u001b[0m\u001b[0;34m\u001b[0m\u001b[0m\n\u001b[0m\u001b[1;32m    124\u001b[0m             ]\n\u001b[1;32m    125\u001b[0m         )\n",
            "\u001b[0;32m<ipython-input-26-3da7040bf2f7>\u001b[0m in \u001b[0;36m<listcomp>\u001b[0;34m(.0)\u001b[0m\n\u001b[1;32m    121\u001b[0m             [\n\u001b[1;32m    122\u001b[0m                 \u001b[0mself\u001b[0m\u001b[0;34m.\u001b[0m\u001b[0m_classifiers\u001b[0m\u001b[0;34m[\u001b[0m\u001b[0mi\u001b[0m\u001b[0;34m]\u001b[0m\u001b[0;34m.\u001b[0m\u001b[0mloss_gradient\u001b[0m\u001b[0;34m(\u001b[0m\u001b[0mx_noised\u001b[0m\u001b[0;34m,\u001b[0m \u001b[0my\u001b[0m\u001b[0;34m)\u001b[0m\u001b[0;34m\u001b[0m\u001b[0;34m\u001b[0m\u001b[0m\n\u001b[0;32m--> 123\u001b[0;31m                 \u001b[0;32mfor\u001b[0m \u001b[0mi\u001b[0m \u001b[0;32min\u001b[0m \u001b[0mindices\u001b[0m\u001b[0;34m\u001b[0m\u001b[0;34m\u001b[0m\u001b[0m\n\u001b[0m\u001b[1;32m    124\u001b[0m             ]\n\u001b[1;32m    125\u001b[0m         )\n",
            "\u001b[0;32m/usr/local/lib/python3.6/dist-packages/art/estimators/classification/classifier.py\u001b[0m in \u001b[0;36mreplacement_function\u001b[0;34m(self, *args, **kwargs)\u001b[0m\n\u001b[1;32m     69\u001b[0m                 \u001b[0;32mif\u001b[0m \u001b[0mlen\u001b[0m\u001b[0;34m(\u001b[0m\u001b[0margs\u001b[0m\u001b[0;34m)\u001b[0m \u001b[0;34m>\u001b[0m \u001b[0;36m0\u001b[0m\u001b[0;34m:\u001b[0m\u001b[0;34m\u001b[0m\u001b[0;34m\u001b[0m\u001b[0m\n\u001b[1;32m     70\u001b[0m                     \u001b[0margs\u001b[0m \u001b[0;34m=\u001b[0m \u001b[0mtuple\u001b[0m\u001b[0;34m(\u001b[0m\u001b[0mlst\u001b[0m\u001b[0;34m)\u001b[0m\u001b[0;34m\u001b[0m\u001b[0;34m\u001b[0m\u001b[0m\n\u001b[0;32m---> 71\u001b[0;31m                 \u001b[0;32mreturn\u001b[0m \u001b[0mfdict\u001b[0m\u001b[0;34m[\u001b[0m\u001b[0mfunc_name\u001b[0m\u001b[0;34m]\u001b[0m\u001b[0;34m(\u001b[0m\u001b[0mself\u001b[0m\u001b[0;34m,\u001b[0m \u001b[0;34m*\u001b[0m\u001b[0margs\u001b[0m\u001b[0;34m,\u001b[0m \u001b[0;34m**\u001b[0m\u001b[0mkwargs\u001b[0m\u001b[0;34m)\u001b[0m\u001b[0;34m\u001b[0m\u001b[0;34m\u001b[0m\u001b[0m\n\u001b[0m\u001b[1;32m     72\u001b[0m \u001b[0;34m\u001b[0m\u001b[0m\n\u001b[1;32m     73\u001b[0m             \u001b[0mreplacement_function\u001b[0m\u001b[0;34m.\u001b[0m\u001b[0m__doc__\u001b[0m \u001b[0;34m=\u001b[0m \u001b[0mfdict\u001b[0m\u001b[0;34m[\u001b[0m\u001b[0mfunc_name\u001b[0m\u001b[0;34m]\u001b[0m\u001b[0;34m.\u001b[0m\u001b[0m__doc__\u001b[0m\u001b[0;34m\u001b[0m\u001b[0;34m\u001b[0m\u001b[0m\n",
            "\u001b[0;32m/usr/local/lib/python3.6/dist-packages/art/estimators/classification/pytorch.py\u001b[0m in \u001b[0;36mloss_gradient\u001b[0;34m(self, x, y, **kwargs)\u001b[0m\n\u001b[1;32m    467\u001b[0m         \u001b[0;31m# Compute gradients\u001b[0m\u001b[0;34m\u001b[0m\u001b[0;34m\u001b[0m\u001b[0;34m\u001b[0m\u001b[0m\n\u001b[1;32m    468\u001b[0m         \u001b[0mloss\u001b[0m\u001b[0;34m.\u001b[0m\u001b[0mbackward\u001b[0m\u001b[0;34m(\u001b[0m\u001b[0;34m)\u001b[0m\u001b[0;34m\u001b[0m\u001b[0;34m\u001b[0m\u001b[0m\n\u001b[0;32m--> 469\u001b[0;31m         \u001b[0mgrads\u001b[0m \u001b[0;34m=\u001b[0m \u001b[0minputs_t\u001b[0m\u001b[0;34m.\u001b[0m\u001b[0mgrad\u001b[0m\u001b[0;34m.\u001b[0m\u001b[0mcpu\u001b[0m\u001b[0;34m(\u001b[0m\u001b[0;34m)\u001b[0m\u001b[0;34m.\u001b[0m\u001b[0mnumpy\u001b[0m\u001b[0;34m(\u001b[0m\u001b[0;34m)\u001b[0m\u001b[0;34m.\u001b[0m\u001b[0mcopy\u001b[0m\u001b[0;34m(\u001b[0m\u001b[0;34m)\u001b[0m  \u001b[0;31m# type: ignore\u001b[0m\u001b[0;34m\u001b[0m\u001b[0;34m\u001b[0m\u001b[0m\n\u001b[0m\u001b[1;32m    470\u001b[0m         \u001b[0mgrads\u001b[0m \u001b[0;34m=\u001b[0m \u001b[0mself\u001b[0m\u001b[0;34m.\u001b[0m\u001b[0m_apply_preprocessing_gradient\u001b[0m\u001b[0;34m(\u001b[0m\u001b[0mx\u001b[0m\u001b[0;34m,\u001b[0m \u001b[0mgrads\u001b[0m\u001b[0;34m)\u001b[0m\u001b[0;34m\u001b[0m\u001b[0;34m\u001b[0m\u001b[0m\n\u001b[1;32m    471\u001b[0m         \u001b[0;32massert\u001b[0m \u001b[0mgrads\u001b[0m\u001b[0;34m.\u001b[0m\u001b[0mshape\u001b[0m \u001b[0;34m==\u001b[0m \u001b[0mx\u001b[0m\u001b[0;34m.\u001b[0m\u001b[0mshape\u001b[0m\u001b[0;34m\u001b[0m\u001b[0;34m\u001b[0m\u001b[0m\n",
            "\u001b[0;31mKeyboardInterrupt\u001b[0m: "
          ]
        }
      ]
    },
    {
      "cell_type": "markdown",
      "metadata": {
        "id": "YoYiKeGCjfDR"
      },
      "source": [
        "# PGD Attack"
      ]
    },
    {
      "cell_type": "code",
      "metadata": {
        "id": "ZZRM5XEZjchO",
        "colab": {
          "base_uri": "https://localhost:8080/"
        },
        "outputId": "594bb82c-4338-49ad-d695-d8452eea3ac5"
      },
      "source": [
        "attack = ProjectedGradientDescentPyTorch(my_ensemble_classifier, eps=0.5, eps_step=0.03)\n",
        "Acc = []\n",
        "for batch_idx, (X, Y) in enumerate(testloader):\n",
        "    x_test = X.numpy()\n",
        "    y_test = Y.numpy()\n",
        "    x_test_adv = attack.generate(torch.from_numpy(x_test))\n",
        "    predictions = my_ensemble_classifier.predict(x_test_adv)\n",
        "    accuracy = np.sum(np.argmax(predictions, axis=1) == np.array(y_test)) / len(y_test)\n",
        "    Acc.append(accuracy)\n",
        "    logging.info('accuracy: {}'.format(accuracy))"
      ],
      "execution_count": null,
      "outputs": [
        {
          "output_type": "stream",
          "text": [
            "\n",
            "\n",
            "\n",
            "\n",
            "\n",
            "\n",
            "\n",
            "\n",
            "\n",
            "\n",
            "PGD - Random Initializations:   0%|          | 0/1 [00:00<?, ?it/s]\u001b[A\u001b[A\u001b[A\u001b[A\u001b[A\u001b[A\u001b[A\u001b[A\u001b[A\u001b[A\n",
            "\n",
            "\n",
            "\n",
            "\n",
            "\n",
            "\n",
            "\n",
            "\n",
            "\n",
            "\n",
            "PGD - Batches:   0%|          | 0/4 [00:00<?, ?it/s]\u001b[A\u001b[A\u001b[A\u001b[A\u001b[A\u001b[A\u001b[A\u001b[A\u001b[A\u001b[A\u001b[A\n",
            "\n",
            "\n",
            "\n",
            "\n",
            "\n",
            "\n",
            "\n",
            "\n",
            "\n",
            "\n",
            "PGD - Batches:  25%|██▌       | 1/4 [01:35<04:45, 95.04s/it]\u001b[A\u001b[A\u001b[A\u001b[A\u001b[A\u001b[A\u001b[A\u001b[A\u001b[A\u001b[A\u001b[A\n",
            "\n",
            "\n",
            "\n",
            "\n",
            "\n",
            "\n",
            "\n",
            "\n",
            "\n",
            "\n",
            "PGD - Batches:  50%|█████     | 2/4 [03:10<03:10, 95.04s/it]\u001b[A\u001b[A\u001b[A\u001b[A\u001b[A\u001b[A\u001b[A\u001b[A\u001b[A\u001b[A\u001b[A\n",
            "\n",
            "\n",
            "\n",
            "\n",
            "\n",
            "\n",
            "\n",
            "\n",
            "\n",
            "\n",
            "PGD - Batches:  75%|███████▌  | 3/4 [04:45<01:35, 95.05s/it]\u001b[A\u001b[A\u001b[A\u001b[A\u001b[A\u001b[A\u001b[A\u001b[A\u001b[A\u001b[A\u001b[A\n",
            "\n",
            "\n",
            "\n",
            "\n",
            "\n",
            "\n",
            "\n",
            "\n",
            "\n",
            "\n",
            "PGD - Batches: 100%|██████████| 4/4 [05:26<00:00, 78.99s/it]\u001b[A\u001b[A\u001b[A\u001b[A\u001b[A\u001b[A\u001b[A\u001b[A\u001b[A\u001b[A\u001b[A\n",
            "\n",
            "\n",
            "\n",
            "\n",
            "\n",
            "\n",
            "\n",
            "\n",
            "\n",
            "\n",
            "                                                            \u001b[A\u001b[A\u001b[A\u001b[A\u001b[A\u001b[A\u001b[A\u001b[A\u001b[A\u001b[A\u001b[A\n",
            "\n",
            "\n",
            "\n",
            "\n",
            "\n",
            "\n",
            "\n",
            "\n",
            "\n",
            "PGD - Random Initializations: 100%|██████████| 1/1 [05:26<00:00, 326.68s/it]\n",
            "2020-11-19 23:57:42,789 INFO Success rate of attack: 99.00%\n",
            "2020-11-19 23:57:44,903 INFO accuracy: 0.03\n",
            "\n",
            "\n",
            "\n",
            "\n",
            "\n",
            "\n",
            "\n",
            "\n",
            "\n",
            "\n",
            "PGD - Random Initializations:   0%|          | 0/1 [00:00<?, ?it/s]\u001b[A\u001b[A\u001b[A\u001b[A\u001b[A\u001b[A\u001b[A\u001b[A\u001b[A\u001b[A\n",
            "\n",
            "\n",
            "\n",
            "\n",
            "\n",
            "\n",
            "\n",
            "\n",
            "\n",
            "\n",
            "PGD - Batches:   0%|          | 0/4 [00:00<?, ?it/s]\u001b[A\u001b[A\u001b[A\u001b[A\u001b[A\u001b[A\u001b[A\u001b[A\u001b[A\u001b[A\u001b[A\n",
            "\n",
            "\n",
            "\n",
            "\n",
            "\n",
            "\n",
            "\n",
            "\n",
            "\n",
            "\n",
            "PGD - Batches:  25%|██▌       | 1/4 [01:35<04:45, 95.07s/it]\u001b[A\u001b[A\u001b[A\u001b[A\u001b[A\u001b[A\u001b[A\u001b[A\u001b[A\u001b[A\u001b[A\n",
            "\n",
            "\n",
            "\n",
            "\n",
            "\n",
            "\n",
            "\n",
            "\n",
            "\n",
            "\n",
            "PGD - Batches:  50%|█████     | 2/4 [03:10<03:10, 95.05s/it]\u001b[A\u001b[A\u001b[A\u001b[A\u001b[A\u001b[A\u001b[A\u001b[A\u001b[A\u001b[A\u001b[A\n",
            "\n",
            "\n",
            "\n",
            "\n",
            "\n",
            "\n",
            "\n",
            "\n",
            "\n",
            "\n",
            "PGD - Batches:  75%|███████▌  | 3/4 [04:45<01:35, 95.04s/it]\u001b[A\u001b[A\u001b[A\u001b[A\u001b[A\u001b[A\u001b[A\u001b[A\u001b[A\u001b[A\u001b[A\n",
            "\n",
            "\n",
            "\n",
            "\n",
            "\n",
            "\n",
            "\n",
            "\n",
            "\n",
            "\n",
            "PGD - Batches: 100%|██████████| 4/4 [05:25<00:00, 78.60s/it]\u001b[A\u001b[A\u001b[A\u001b[A\u001b[A\u001b[A\u001b[A\u001b[A\u001b[A\u001b[A\u001b[A\n",
            "\n",
            "\n",
            "\n",
            "\n",
            "\n",
            "\n",
            "\n",
            "\n",
            "\n",
            "\n",
            "                                                            \u001b[A\u001b[A\u001b[A\u001b[A\u001b[A\u001b[A\u001b[A\u001b[A\u001b[A\u001b[A\u001b[A\n",
            "\n",
            "\n",
            "\n",
            "\n",
            "\n",
            "\n",
            "\n",
            "\n",
            "\n",
            "PGD - Random Initializations: 100%|██████████| 1/1 [05:25<00:00, 325.33s/it]\n",
            "2020-11-20 00:03:16,482 INFO Success rate of attack: 99.00%\n",
            "2020-11-20 00:03:18,545 INFO accuracy: 0.03\n",
            "\n",
            "\n",
            "\n",
            "\n",
            "\n",
            "\n",
            "\n",
            "\n",
            "\n",
            "\n",
            "PGD - Random Initializations:   0%|          | 0/1 [00:00<?, ?it/s]\u001b[A\u001b[A\u001b[A\u001b[A\u001b[A\u001b[A\u001b[A\u001b[A\u001b[A\u001b[A\n",
            "\n",
            "\n",
            "\n",
            "\n",
            "\n",
            "\n",
            "\n",
            "\n",
            "\n",
            "\n",
            "PGD - Batches:   0%|          | 0/4 [00:00<?, ?it/s]\u001b[A\u001b[A\u001b[A\u001b[A\u001b[A\u001b[A\u001b[A\u001b[A\u001b[A\u001b[A\u001b[A\n",
            "\n",
            "\n",
            "\n",
            "\n",
            "\n",
            "\n",
            "\n",
            "\n",
            "\n",
            "\n",
            "PGD - Batches:  25%|██▌       | 1/4 [01:35<04:45, 95.02s/it]\u001b[A\u001b[A\u001b[A\u001b[A\u001b[A\u001b[A\u001b[A\u001b[A\u001b[A\u001b[A\u001b[A\n",
            "\n",
            "\n",
            "\n",
            "\n",
            "\n",
            "\n",
            "\n",
            "\n",
            "\n",
            "\n",
            "PGD - Batches:  50%|█████     | 2/4 [03:10<03:10, 95.01s/it]\u001b[A\u001b[A\u001b[A\u001b[A\u001b[A\u001b[A\u001b[A\u001b[A\u001b[A\u001b[A\u001b[A\n",
            "\n",
            "\n",
            "\n",
            "\n",
            "\n",
            "\n",
            "\n",
            "\n",
            "\n",
            "\n",
            "PGD - Batches:  75%|███████▌  | 3/4 [04:44<01:35, 95.00s/it]\u001b[A\u001b[A\u001b[A\u001b[A\u001b[A\u001b[A\u001b[A\u001b[A\u001b[A\u001b[A\u001b[A\n",
            "\n",
            "\n",
            "\n",
            "\n",
            "\n",
            "\n",
            "\n",
            "\n",
            "\n",
            "\n",
            "PGD - Batches: 100%|██████████| 4/4 [05:25<00:00, 78.77s/it]\u001b[A\u001b[A\u001b[A\u001b[A\u001b[A\u001b[A\u001b[A\u001b[A\u001b[A\u001b[A\u001b[A\n",
            "\n",
            "\n",
            "\n",
            "\n",
            "\n",
            "\n",
            "\n",
            "\n",
            "\n",
            "\n",
            "                                                            \u001b[A\u001b[A\u001b[A\u001b[A\u001b[A\u001b[A\u001b[A\u001b[A\u001b[A\u001b[A\u001b[A\n",
            "\n",
            "\n",
            "\n",
            "\n",
            "\n",
            "\n",
            "\n",
            "\n",
            "\n",
            "PGD - Random Initializations: 100%|██████████| 1/1 [05:25<00:00, 325.90s/it]\n",
            "2020-11-20 00:08:50,702 INFO Success rate of attack: 94.00%\n",
            "2020-11-20 00:08:52,769 INFO accuracy: 0.09\n",
            "\n",
            "\n",
            "\n",
            "\n",
            "\n",
            "\n",
            "\n",
            "\n",
            "\n",
            "\n",
            "PGD - Random Initializations:   0%|          | 0/1 [00:00<?, ?it/s]\u001b[A\u001b[A\u001b[A\u001b[A\u001b[A\u001b[A\u001b[A\u001b[A\u001b[A\u001b[A\n",
            "\n",
            "\n",
            "\n",
            "\n",
            "\n",
            "\n",
            "\n",
            "\n",
            "\n",
            "\n",
            "PGD - Batches:   0%|          | 0/4 [00:00<?, ?it/s]\u001b[A\u001b[A\u001b[A\u001b[A\u001b[A\u001b[A\u001b[A\u001b[A\u001b[A\u001b[A\u001b[A\n",
            "\n",
            "\n",
            "\n",
            "\n",
            "\n",
            "\n",
            "\n",
            "\n",
            "\n",
            "\n",
            "PGD - Batches:  25%|██▌       | 1/4 [01:35<04:45, 95.07s/it]\u001b[A\u001b[A\u001b[A\u001b[A\u001b[A\u001b[A\u001b[A\u001b[A\u001b[A\u001b[A\u001b[A\n",
            "\n",
            "\n",
            "\n",
            "\n",
            "\n",
            "\n",
            "\n",
            "\n",
            "\n",
            "\n",
            "PGD - Batches:  50%|█████     | 2/4 [03:10<03:10, 95.06s/it]\u001b[A\u001b[A\u001b[A\u001b[A\u001b[A\u001b[A\u001b[A\u001b[A\u001b[A\u001b[A\u001b[A\n",
            "\n",
            "\n",
            "\n",
            "\n",
            "\n",
            "\n",
            "\n",
            "\n",
            "\n",
            "\n",
            "PGD - Batches:  75%|███████▌  | 3/4 [04:45<01:35, 95.05s/it]\u001b[A\u001b[A\u001b[A\u001b[A\u001b[A\u001b[A\u001b[A\u001b[A\u001b[A\u001b[A\u001b[A\n",
            "\n",
            "\n",
            "\n",
            "\n",
            "\n",
            "\n",
            "\n",
            "\n",
            "\n",
            "\n",
            "PGD - Batches: 100%|██████████| 4/4 [05:25<00:00, 78.73s/it]\u001b[A\u001b[A\u001b[A\u001b[A\u001b[A\u001b[A\u001b[A\u001b[A\u001b[A\u001b[A\u001b[A\n",
            "\n",
            "\n",
            "\n",
            "\n",
            "\n",
            "\n",
            "\n",
            "\n",
            "\n",
            "\n",
            "                                                            \u001b[A\u001b[A\u001b[A\u001b[A\u001b[A\u001b[A\u001b[A\u001b[A\u001b[A\u001b[A\u001b[A\n",
            "\n",
            "\n",
            "\n",
            "\n",
            "\n",
            "\n",
            "\n",
            "\n",
            "\n",
            "PGD - Random Initializations: 100%|██████████| 1/1 [05:25<00:00, 325.81s/it]\n",
            "2020-11-20 00:14:24,845 INFO Success rate of attack: 98.00%\n",
            "2020-11-20 00:14:26,913 INFO accuracy: 0.03\n",
            "\n",
            "\n",
            "\n",
            "\n",
            "\n",
            "\n",
            "\n",
            "\n",
            "\n",
            "\n",
            "PGD - Random Initializations:   0%|          | 0/1 [00:00<?, ?it/s]\u001b[A\u001b[A\u001b[A\u001b[A\u001b[A\u001b[A\u001b[A\u001b[A\u001b[A\u001b[A\n",
            "\n",
            "\n",
            "\n",
            "\n",
            "\n",
            "\n",
            "\n",
            "\n",
            "\n",
            "\n",
            "PGD - Batches:   0%|          | 0/4 [00:00<?, ?it/s]\u001b[A\u001b[A\u001b[A\u001b[A\u001b[A\u001b[A\u001b[A\u001b[A\u001b[A\u001b[A\u001b[A\n",
            "\n",
            "\n",
            "\n",
            "\n",
            "\n",
            "\n",
            "\n",
            "\n",
            "\n",
            "\n",
            "PGD - Batches:  25%|██▌       | 1/4 [01:35<04:45, 95.06s/it]\u001b[A\u001b[A\u001b[A\u001b[A\u001b[A\u001b[A\u001b[A\u001b[A\u001b[A\u001b[A\u001b[A"
          ],
          "name": "stderr"
        }
      ]
    },
    {
      "cell_type": "markdown",
      "metadata": {
        "id": "-pdAezsETlff"
      },
      "source": [
        "# Create classifier object"
      ]
    },
    {
      "cell_type": "code",
      "metadata": {
        "id": "nKa7zNK71qHi",
        "colab": {
          "base_uri": "https://localhost:8080/"
        },
        "outputId": "9ca174b6-bb8b-45a3-8ba0-df5fb2dad94c"
      },
      "source": [
        "my_ensemble = MyEnsemble(model_dict, num_models_selected, noise_std, num_classes=10)\n",
        "criterion = nn.CrossEntropyLoss()\n",
        "classifier = MyPyTorchClassifier(\n",
        "    model=my_ensemble,\n",
        "    clip_values=(0, 1),\n",
        "    loss=criterion,\n",
        "    input_shape=(3, 224, 224),\n",
        "    nb_classes=10,\n",
        ")"
      ],
      "execution_count": null,
      "outputs": [
        {
          "output_type": "stream",
          "text": [
            "2020-11-15 17:56:22,334 INFO Inferred 1 hidden layers on PyTorch classifier.\n"
          ],
          "name": "stderr"
        }
      ]
    },
    {
      "cell_type": "code",
      "metadata": {
        "id": "6zHmgVB-4npi"
      },
      "source": [
        "attack = FastGradientMethod(estimator=classifier, eps=0.01)\n",
        "Acc = []\n",
        "for batch_idx, (X, Y) in enumerate(testloader):\n",
        "    x_test = X.numpy()\n",
        "    y_test = Y.numpy()\n",
        "    x_test_adv = attack.generate(torch.from_numpy(x_test))\n",
        "    predictions = classifier.predict(x_test_adv)\n",
        "    accuracy = np.sum(np.argmax(predictions, axis=1) == np.array(y_test)) / len(y_test)\n",
        "    Acc.append(accuracy)\n",
        "    logging.info('accuracy: {}'.format(accuracy))"
      ],
      "execution_count": null,
      "outputs": []
    },
    {
      "cell_type": "markdown",
      "metadata": {
        "id": "LyMeGON8BFNL"
      },
      "source": [
        "# Experiment settings"
      ]
    },
    {
      "cell_type": "code",
      "metadata": {
        "id": "HjUPKB3jvijF"
      },
      "source": [
        "fgm_epsilon = np.array([0.005, 0.01, 0.02, 0.04, 0.08])\n",
        "pgd_epsilon = 8.0 / 255.0 / np.array([2.0, 4.0, 8.0, 16.0])\n",
        "diff = np.array([1e-3, 1e-4, 1e-5, 1e-6])\n",
        "pgd_epsilon_step = pgd_epsilon - diff"
      ],
      "execution_count": null,
      "outputs": []
    },
    {
      "cell_type": "markdown",
      "metadata": {
        "id": "9XG44M27BNIT"
      },
      "source": [
        "Experiment on inference noise"
      ]
    },
    {
      "cell_type": "code",
      "metadata": {
        "id": "U79zJmCsDEKc"
      },
      "source": [
        "noise_stds = [0.02, 0.04, 0.06, 0.08, 0.1]\n",
        "for i in range(len(noise_stds)):\n",
        "  my_ensemble = MyEnsemble(model_dict, num_models_selected, noise_std=noise_stds[i], num_classes=10)\n",
        "  classifier = PyTorchClassifier(\n",
        "      model=my_ensemble,\n",
        "      clip_values=(0, 1),\n",
        "      loss=nn.CrossEntropyLoss(),\n",
        "      input_shape=(3, 224, 224),\n",
        "      nb_classes=10)\n",
        "  attack = FastGradientMethod(estimator=classifier, eps=0.01)\n",
        "  Acc = []\n",
        "  for batch_idx, (X, Y) in enumerate(testloader):\n",
        "    x_test = X.numpy()\n",
        "    y_test = Y.numpy()\n",
        "    x_test_adv = attack.generate(torch.from_numpy(x_test))\n",
        "    predictions = classifier.predict(x_test_adv)\n",
        "    accuracy = np.sum(np.argmax(predictions, axis=1) == np.array(y_test)) / len(y_test)\n",
        "    Acc.append(accuracy)\n",
        "    logging.info('accuracy: {}'.format(accuracy))\n",
        "  \n",
        "  logging.info(\"Accuracy for eps={}: {}\".format(fgm_epsilon[i], np.mean(np.array(Acc))))\n",
        "\n",
        "  pred_list = np.asanyarray(Acc)\n",
        "  idx = np.arange(0,len(testset)/test_batchsize).tolist()\n",
        "  dict = {'Id': idx ,'acc': pred_list} \n",
        "  df = pd.DataFrame(dict) \n",
        "  # saving the dataframe \n",
        "  df.to_csv('./gdrive/My Drive/IDL_Project/results/FGM_result_noise{}_{}.csv'.format(noise_stds[i], datetime.datetime.now()),index=False)"
      ],
      "execution_count": null,
      "outputs": []
    },
    {
      "cell_type": "code",
      "metadata": {
        "id": "LotwWsVpMYKN"
      },
      "source": [
        "pred_list = np.asanyarray(Acc)\n",
        "idx = np.arange(0,len(testset)/test_batchsize).tolist()\n",
        "dict = {'Id': idx ,'acc': pred_list} \n",
        "df = pd.DataFrame(dict) \n",
        "# saving the dataframe \n",
        "df.to_csv('./gdrive/My Drive/IDL_Project/results/FGM_result_eps{}_{}.csv'.format(fgm_epsilon[-1], datetime.datetime.now()),index=False)"
      ],
      "execution_count": null,
      "outputs": []
    },
    {
      "cell_type": "markdown",
      "metadata": {
        "id": "rqIgjfhwBXVL"
      },
      "source": [
        "Plot PGD adversarial examples"
      ]
    },
    {
      "cell_type": "code",
      "metadata": {
        "id": "4Eu7qdDQMnGq"
      },
      "source": [
        "attack = ProjectedGradientDescentPyTorch(estimator=classifier, eps=pgd_epsilon[0], eps_step=pgd_epsilon_step[0])\n",
        "Acc = []\n",
        "adv = []\n",
        "orig = []\n",
        "labels = []\n",
        "pred = []\n",
        "for batch_idx, (X, Y) in enumerate(testloader):\n",
        "  if batch_idx > 0:\n",
        "    break\n",
        "  x_test = X.numpy()\n",
        "  y_test = Y.numpy()\n",
        "  x_test_adv = attack.generate(torch.from_numpy(x_test))\n",
        "  predictions = classifier.predict(x_test_adv)\n",
        "  accuracy = np.sum(np.argmax(predictions, axis=1) == np.array(y_test)) / len(y_test)\n",
        "  Acc.append(accuracy)\n",
        "  adv.append(x_test_adv)\n",
        "  orig.append(x_test)\n",
        "  labels.append(y_test)\n",
        "  pred.append(predictions)\n",
        "  logging.info('accuracy: {}'.format(accuracy))"
      ],
      "execution_count": null,
      "outputs": []
    },
    {
      "cell_type": "code",
      "metadata": {
        "id": "l8sj2LdnNV5n"
      },
      "source": [
        "example_adv = adv[-1]\n",
        "example_orig = orig[-1]\n",
        "label = labels[-1]\n",
        "predi = np.argmax(predictions, axis=1)"
      ],
      "execution_count": null,
      "outputs": []
    },
    {
      "cell_type": "code",
      "metadata": {
        "id": "SoD6QHEwNt4T",
        "colab": {
          "base_uri": "https://localhost:8080/"
        },
        "outputId": "cafe27a5-5d91-4018-9d6b-40b8c70077f9"
      },
      "source": [
        "print(label)\n",
        "print(predi)"
      ],
      "execution_count": null,
      "outputs": [
        {
          "output_type": "stream",
          "text": [
            "[3 8 8 0 6 6 1 6 3 1]\n",
            "[5 8 0 2 4 3 9 4 6 9]\n"
          ],
          "name": "stdout"
        }
      ]
    },
    {
      "cell_type": "code",
      "metadata": {
        "id": "bnkXnHRePFeW"
      },
      "source": [
        "idx = 2\n",
        "selected_adv = example_adv[idx]\n",
        "selected_orig = example_orig[idx]\n",
        "selected_lab = label[idx]\n",
        "selected_pred = predi[idx]"
      ],
      "execution_count": null,
      "outputs": []
    },
    {
      "cell_type": "code",
      "metadata": {
        "id": "aZuD1OfoWroX",
        "colab": {
          "base_uri": "https://localhost:8080/"
        },
        "outputId": "1ba6dd7a-e48c-45d4-ffa4-3e2e95d2a9d7"
      },
      "source": [
        "print(selected_lab)\n",
        "print(selected_pred)"
      ],
      "execution_count": null,
      "outputs": [
        {
          "output_type": "stream",
          "text": [
            "8\n",
            "0\n"
          ],
          "name": "stdout"
        }
      ]
    },
    {
      "cell_type": "code",
      "metadata": {
        "id": "KkxSl4PTPab0",
        "colab": {
          "base_uri": "https://localhost:8080/",
          "height": 286
        },
        "outputId": "a0ba4ea5-33e0-4873-b51b-2a0bc6b47cfc"
      },
      "source": [
        "from PIL import Image\n",
        "import matplotlib.pyplot as plt\n",
        "\n",
        "plt.imshow(np.transpose(selected_orig, (1, 2, 0)))"
      ],
      "execution_count": null,
      "outputs": [
        {
          "output_type": "execute_result",
          "data": {
            "text/plain": [
              "<matplotlib.image.AxesImage at 0x7f1c498b30b8>"
            ]
          },
          "metadata": {
            "tags": []
          },
          "execution_count": 80
        },
        {
          "output_type": "display_data",
          "data": {
            "image/png": "[encoded data removed]",
            "text/plain": [
              "<Figure size 432x288 with 1 Axes>"
            ]
          },
          "metadata": {
            "tags": [],
            "needs_background": "light"
          }
        }
      ]
    },
    {
      "cell_type": "code",
      "metadata": {
        "id": "Tpehq_0hVobG",
        "colab": {
          "base_uri": "https://localhost:8080/",
          "height": 286
        },
        "outputId": "0c3251ac-3912-4dcf-c226-1d533be331a6"
      },
      "source": [
        "plt.imshow(np.transpose(selected_adv, (1, 2, 0)))"
      ],
      "execution_count": null,
      "outputs": [
        {
          "output_type": "execute_result",
          "data": {
            "text/plain": [
              "<matplotlib.image.AxesImage at 0x7f1c498105f8>"
            ]
          },
          "metadata": {
            "tags": []
          },
          "execution_count": 81
        },
        {
          "output_type": "display_data",
          "data": {
            "image/png": "[encoded data removed]",
            "text/plain": [
              "<Figure size 432x288 with 1 Axes>"
            ]
          },
          "metadata": {
            "tags": [],
            "needs_background": "light"
          }
        }
      ]
    },
    {
      "cell_type": "code",
      "metadata": {
        "id": "tuLSJh8QVsHy",
        "colab": {
          "base_uri": "https://localhost:8080/",
          "height": 302
        },
        "outputId": "73939653-67fd-4af7-ddb4-d89cb59a692f"
      },
      "source": [
        "plt.imshow(10*(np.transpose(selected_orig, (1, 2, 0)) - np.transpose(selected_adv, (1, 2, 0))))"
      ],
      "execution_count": null,
      "outputs": [
        {
          "output_type": "stream",
          "text": [
            "2020-11-10 04:20:36,594 WARNING Clipping input data to the valid range for imshow with RGB data ([0..1] for floats or [0..255] for integers).\n"
          ],
          "name": "stderr"
        },
        {
          "output_type": "execute_result",
          "data": {
            "text/plain": [
              "<matplotlib.image.AxesImage at 0x7f1c496a6128>"
            ]
          },
          "metadata": {
            "tags": []
          },
          "execution_count": 85
        },
        {
          "output_type": "display_data",
          "data": {
            "image/png": "[encoded data removed]",
            "text/plain": [
              "<Figure size 432x288 with 1 Axes>"
            ]
          },
          "metadata": {
            "tags": [],
            "needs_background": "light"
          }
        }
      ]
    },
    {
      "cell_type": "markdown",
      "metadata": {
        "id": "9lOaioJIBh1G"
      },
      "source": [
        "Experiment PGD attacks"
      ]
    },
    {
      "cell_type": "code",
      "metadata": {
        "id": "iuxeEuf-8UVE"
      },
      "source": [
        "for i in range(len(pgd_epsilon)):\n",
        "  attack = FastGradientMethod(estimator=classifier, eps=fgm_epsilon[i])\n",
        "  Acc = []\n",
        "  for batch_idx, (X, Y) in enumerate(testloader):\n",
        "    x_test = X.numpy()\n",
        "    y_test = Y.numpy()\n",
        "    x_test_adv = attack.generate(torch.from_numpy(x_test))\n",
        "    predictions = classifier.predict(x_test_adv)\n",
        "    accuracy = np.sum(np.argmax(predictions, axis=1) == np.array(y_test)) / len(y_test)\n",
        "    Acc.append(accuracy)\n",
        "    logging.info('accuracy: {}'.format(accuracy))\n",
        "  \n",
        "  logging.info(\"Accuracy for eps={}: {}\".format(fgm_epsilon[i], np.mean(np.array(Acc))))\n",
        "\n",
        "  pred_list = np.asanyarray(Acc)\n",
        "  idx = np.arange(0,len(testset)/test_batchsize).tolist()\n",
        "  dict = {'Id': idx ,'acc': pred_list} \n",
        "  df = pd.DataFrame(dict) \n",
        "  # saving the dataframe \n",
        "  df.to_csv('./gdrive/My Drive/IDL_Project/results/FGM_result_eps{}_{}.csv'.format(fgm_epsilon[i], datetime.datetime.now()),index=False)"
      ],
      "execution_count": null,
      "outputs": []
    }
  ]
}